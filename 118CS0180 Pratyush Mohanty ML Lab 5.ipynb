{
 "cells": [
  {
   "cell_type": "code",
   "execution_count": 1,
   "metadata": {},
   "outputs": [
    {
     "name": "stdout",
     "output_type": "stream",
     "text": [
      "Name- Pratyush Mohanty\n",
      "Roll No-118CS0180\n",
      "Date- 2021-09-28\n",
      "Machine learning Lab 5\n"
     ]
    }
   ],
   "source": [
    "from datetime import date\n",
    "\n",
    "\n",
    "print(\"Name- Pratyush Mohanty\")\n",
    "print(\"Roll No-118CS0180\")\n",
    "print(\"Date- {}\".format(date.today()))\n",
    "print(\"Machine learning Lab 5\")"
   ]
  },
  {
   "cell_type": "code",
   "execution_count": 2,
   "metadata": {},
   "outputs": [],
   "source": [
    "import numpy as np\n",
    "import pandas as pd\n",
    "import math\n",
    "import random"
   ]
  },
  {
   "cell_type": "markdown",
   "metadata": {},
   "source": [
    "## Question 1:"
   ]
  },
  {
   "cell_type": "code",
   "execution_count": 3,
   "metadata": {},
   "outputs": [
    {
     "data": {
      "text/html": [
       "<div>\n",
       "<style scoped>\n",
       "    .dataframe tbody tr th:only-of-type {\n",
       "        vertical-align: middle;\n",
       "    }\n",
       "\n",
       "    .dataframe tbody tr th {\n",
       "        vertical-align: top;\n",
       "    }\n",
       "\n",
       "    .dataframe thead th {\n",
       "        text-align: right;\n",
       "    }\n",
       "</style>\n",
       "<table border=\"1\" class=\"dataframe\">\n",
       "  <thead>\n",
       "    <tr style=\"text-align: right;\">\n",
       "      <th></th>\n",
       "      <th>Date</th>\n",
       "      <th>TempHighF</th>\n",
       "      <th>TempAvgF</th>\n",
       "      <th>TempLowF</th>\n",
       "      <th>DewPointHighF</th>\n",
       "      <th>DewPointAvgF</th>\n",
       "      <th>DewPointLowF</th>\n",
       "      <th>HumidityHighPercent</th>\n",
       "      <th>HumidityAvgPercent</th>\n",
       "      <th>HumidityLowPercent</th>\n",
       "      <th>...</th>\n",
       "      <th>SeaLevelPressureAvgInches</th>\n",
       "      <th>SeaLevelPressureLowInches</th>\n",
       "      <th>VisibilityHighMiles</th>\n",
       "      <th>VisibilityAvgMiles</th>\n",
       "      <th>VisibilityLowMiles</th>\n",
       "      <th>WindHighMPH</th>\n",
       "      <th>WindAvgMPH</th>\n",
       "      <th>WindGustMPH</th>\n",
       "      <th>PrecipitationSumInches</th>\n",
       "      <th>Events</th>\n",
       "    </tr>\n",
       "  </thead>\n",
       "  <tbody>\n",
       "    <tr>\n",
       "      <th>0</th>\n",
       "      <td>2013-12-21</td>\n",
       "      <td>74</td>\n",
       "      <td>60</td>\n",
       "      <td>45</td>\n",
       "      <td>67</td>\n",
       "      <td>49</td>\n",
       "      <td>43</td>\n",
       "      <td>93</td>\n",
       "      <td>75</td>\n",
       "      <td>57</td>\n",
       "      <td>...</td>\n",
       "      <td>29.68</td>\n",
       "      <td>29.59</td>\n",
       "      <td>10</td>\n",
       "      <td>7</td>\n",
       "      <td>2</td>\n",
       "      <td>20</td>\n",
       "      <td>4</td>\n",
       "      <td>31</td>\n",
       "      <td>0.46</td>\n",
       "      <td>Rain , Thunderstorm</td>\n",
       "    </tr>\n",
       "    <tr>\n",
       "      <th>1</th>\n",
       "      <td>2013-12-22</td>\n",
       "      <td>56</td>\n",
       "      <td>48</td>\n",
       "      <td>39</td>\n",
       "      <td>43</td>\n",
       "      <td>36</td>\n",
       "      <td>28</td>\n",
       "      <td>93</td>\n",
       "      <td>68</td>\n",
       "      <td>43</td>\n",
       "      <td>...</td>\n",
       "      <td>30.13</td>\n",
       "      <td>29.87</td>\n",
       "      <td>10</td>\n",
       "      <td>10</td>\n",
       "      <td>5</td>\n",
       "      <td>16</td>\n",
       "      <td>6</td>\n",
       "      <td>25</td>\n",
       "      <td>0</td>\n",
       "      <td></td>\n",
       "    </tr>\n",
       "    <tr>\n",
       "      <th>2</th>\n",
       "      <td>2013-12-23</td>\n",
       "      <td>58</td>\n",
       "      <td>45</td>\n",
       "      <td>32</td>\n",
       "      <td>31</td>\n",
       "      <td>27</td>\n",
       "      <td>23</td>\n",
       "      <td>76</td>\n",
       "      <td>52</td>\n",
       "      <td>27</td>\n",
       "      <td>...</td>\n",
       "      <td>30.49</td>\n",
       "      <td>30.41</td>\n",
       "      <td>10</td>\n",
       "      <td>10</td>\n",
       "      <td>10</td>\n",
       "      <td>8</td>\n",
       "      <td>3</td>\n",
       "      <td>12</td>\n",
       "      <td>0</td>\n",
       "      <td></td>\n",
       "    </tr>\n",
       "    <tr>\n",
       "      <th>3</th>\n",
       "      <td>2013-12-24</td>\n",
       "      <td>61</td>\n",
       "      <td>46</td>\n",
       "      <td>31</td>\n",
       "      <td>36</td>\n",
       "      <td>28</td>\n",
       "      <td>21</td>\n",
       "      <td>89</td>\n",
       "      <td>56</td>\n",
       "      <td>22</td>\n",
       "      <td>...</td>\n",
       "      <td>30.45</td>\n",
       "      <td>30.3</td>\n",
       "      <td>10</td>\n",
       "      <td>10</td>\n",
       "      <td>7</td>\n",
       "      <td>12</td>\n",
       "      <td>4</td>\n",
       "      <td>20</td>\n",
       "      <td>0</td>\n",
       "      <td></td>\n",
       "    </tr>\n",
       "    <tr>\n",
       "      <th>4</th>\n",
       "      <td>2013-12-25</td>\n",
       "      <td>58</td>\n",
       "      <td>50</td>\n",
       "      <td>41</td>\n",
       "      <td>44</td>\n",
       "      <td>40</td>\n",
       "      <td>36</td>\n",
       "      <td>86</td>\n",
       "      <td>71</td>\n",
       "      <td>56</td>\n",
       "      <td>...</td>\n",
       "      <td>30.33</td>\n",
       "      <td>30.27</td>\n",
       "      <td>10</td>\n",
       "      <td>10</td>\n",
       "      <td>7</td>\n",
       "      <td>10</td>\n",
       "      <td>2</td>\n",
       "      <td>16</td>\n",
       "      <td>T</td>\n",
       "      <td></td>\n",
       "    </tr>\n",
       "  </tbody>\n",
       "</table>\n",
       "<p>5 rows × 21 columns</p>\n",
       "</div>"
      ],
      "text/plain": [
       "         Date  TempHighF  TempAvgF  TempLowF DewPointHighF DewPointAvgF  \\\n",
       "0  2013-12-21         74        60        45            67           49   \n",
       "1  2013-12-22         56        48        39            43           36   \n",
       "2  2013-12-23         58        45        32            31           27   \n",
       "3  2013-12-24         61        46        31            36           28   \n",
       "4  2013-12-25         58        50        41            44           40   \n",
       "\n",
       "  DewPointLowF HumidityHighPercent HumidityAvgPercent HumidityLowPercent  ...  \\\n",
       "0           43                  93                 75                 57  ...   \n",
       "1           28                  93                 68                 43  ...   \n",
       "2           23                  76                 52                 27  ...   \n",
       "3           21                  89                 56                 22  ...   \n",
       "4           36                  86                 71                 56  ...   \n",
       "\n",
       "  SeaLevelPressureAvgInches SeaLevelPressureLowInches VisibilityHighMiles  \\\n",
       "0                     29.68                     29.59                  10   \n",
       "1                     30.13                     29.87                  10   \n",
       "2                     30.49                     30.41                  10   \n",
       "3                     30.45                      30.3                  10   \n",
       "4                     30.33                     30.27                  10   \n",
       "\n",
       "  VisibilityAvgMiles VisibilityLowMiles WindHighMPH WindAvgMPH WindGustMPH  \\\n",
       "0                  7                  2          20          4          31   \n",
       "1                 10                  5          16          6          25   \n",
       "2                 10                 10           8          3          12   \n",
       "3                 10                  7          12          4          20   \n",
       "4                 10                  7          10          2          16   \n",
       "\n",
       "  PrecipitationSumInches               Events  \n",
       "0                   0.46  Rain , Thunderstorm  \n",
       "1                      0                       \n",
       "2                      0                       \n",
       "3                      0                       \n",
       "4                      T                       \n",
       "\n",
       "[5 rows x 21 columns]"
      ]
     },
     "execution_count": 3,
     "metadata": {},
     "output_type": "execute_result"
    }
   ],
   "source": [
    "weather_df = pd.read_csv(r\"C:\\Users\\Pratyush\\Downloads\\weather.csv\")\n",
    "weather_df.head()"
   ]
  },
  {
   "cell_type": "code",
   "execution_count": 4,
   "metadata": {},
   "outputs": [
    {
     "data": {
      "text/plain": [
       "(1319, 21)"
      ]
     },
     "execution_count": 4,
     "metadata": {},
     "output_type": "execute_result"
    }
   ],
   "source": [
    "weather_df.shape"
   ]
  },
  {
   "cell_type": "code",
   "execution_count": 5,
   "metadata": {},
   "outputs": [
    {
     "data": {
      "text/html": [
       "<div>\n",
       "<style scoped>\n",
       "    .dataframe tbody tr th:only-of-type {\n",
       "        vertical-align: middle;\n",
       "    }\n",
       "\n",
       "    .dataframe tbody tr th {\n",
       "        vertical-align: top;\n",
       "    }\n",
       "\n",
       "    .dataframe thead th {\n",
       "        text-align: right;\n",
       "    }\n",
       "</style>\n",
       "<table border=\"1\" class=\"dataframe\">\n",
       "  <thead>\n",
       "    <tr style=\"text-align: right;\">\n",
       "      <th></th>\n",
       "      <th>TempHighF</th>\n",
       "      <th>TempAvgF</th>\n",
       "      <th>TempLowF</th>\n",
       "    </tr>\n",
       "  </thead>\n",
       "  <tbody>\n",
       "    <tr>\n",
       "      <th>count</th>\n",
       "      <td>1319.000000</td>\n",
       "      <td>1319.000000</td>\n",
       "      <td>1319.000000</td>\n",
       "    </tr>\n",
       "    <tr>\n",
       "      <th>mean</th>\n",
       "      <td>80.862775</td>\n",
       "      <td>70.642911</td>\n",
       "      <td>59.902957</td>\n",
       "    </tr>\n",
       "    <tr>\n",
       "      <th>std</th>\n",
       "      <td>14.766523</td>\n",
       "      <td>14.045904</td>\n",
       "      <td>14.190648</td>\n",
       "    </tr>\n",
       "    <tr>\n",
       "      <th>min</th>\n",
       "      <td>32.000000</td>\n",
       "      <td>29.000000</td>\n",
       "      <td>19.000000</td>\n",
       "    </tr>\n",
       "    <tr>\n",
       "      <th>25%</th>\n",
       "      <td>72.000000</td>\n",
       "      <td>62.000000</td>\n",
       "      <td>49.000000</td>\n",
       "    </tr>\n",
       "    <tr>\n",
       "      <th>50%</th>\n",
       "      <td>83.000000</td>\n",
       "      <td>73.000000</td>\n",
       "      <td>63.000000</td>\n",
       "    </tr>\n",
       "    <tr>\n",
       "      <th>75%</th>\n",
       "      <td>92.000000</td>\n",
       "      <td>83.000000</td>\n",
       "      <td>73.000000</td>\n",
       "    </tr>\n",
       "    <tr>\n",
       "      <th>max</th>\n",
       "      <td>107.000000</td>\n",
       "      <td>93.000000</td>\n",
       "      <td>81.000000</td>\n",
       "    </tr>\n",
       "  </tbody>\n",
       "</table>\n",
       "</div>"
      ],
      "text/plain": [
       "         TempHighF     TempAvgF     TempLowF\n",
       "count  1319.000000  1319.000000  1319.000000\n",
       "mean     80.862775    70.642911    59.902957\n",
       "std      14.766523    14.045904    14.190648\n",
       "min      32.000000    29.000000    19.000000\n",
       "25%      72.000000    62.000000    49.000000\n",
       "50%      83.000000    73.000000    63.000000\n",
       "75%      92.000000    83.000000    73.000000\n",
       "max     107.000000    93.000000    81.000000"
      ]
     },
     "execution_count": 5,
     "metadata": {},
     "output_type": "execute_result"
    }
   ],
   "source": [
    "weather_df.describe()"
   ]
  },
  {
   "cell_type": "code",
   "execution_count": 6,
   "metadata": {},
   "outputs": [
    {
     "name": "stdout",
     "output_type": "stream",
     "text": [
      "<class 'pandas.core.frame.DataFrame'>\n",
      "RangeIndex: 1319 entries, 0 to 1318\n",
      "Data columns (total 21 columns):\n",
      " #   Column                      Non-Null Count  Dtype \n",
      "---  ------                      --------------  ----- \n",
      " 0   Date                        1319 non-null   object\n",
      " 1   TempHighF                   1319 non-null   int64 \n",
      " 2   TempAvgF                    1319 non-null   int64 \n",
      " 3   TempLowF                    1319 non-null   int64 \n",
      " 4   DewPointHighF               1319 non-null   object\n",
      " 5   DewPointAvgF                1319 non-null   object\n",
      " 6   DewPointLowF                1319 non-null   object\n",
      " 7   HumidityHighPercent         1319 non-null   object\n",
      " 8   HumidityAvgPercent          1319 non-null   object\n",
      " 9   HumidityLowPercent          1319 non-null   object\n",
      " 10  SeaLevelPressureHighInches  1319 non-null   object\n",
      " 11  SeaLevelPressureAvgInches   1319 non-null   object\n",
      " 12  SeaLevelPressureLowInches   1319 non-null   object\n",
      " 13  VisibilityHighMiles         1319 non-null   object\n",
      " 14  VisibilityAvgMiles          1319 non-null   object\n",
      " 15  VisibilityLowMiles          1319 non-null   object\n",
      " 16  WindHighMPH                 1319 non-null   object\n",
      " 17  WindAvgMPH                  1319 non-null   object\n",
      " 18  WindGustMPH                 1319 non-null   object\n",
      " 19  PrecipitationSumInches      1319 non-null   object\n",
      " 20  Events                      1319 non-null   object\n",
      "dtypes: int64(3), object(18)\n",
      "memory usage: 216.5+ KB\n"
     ]
    }
   ],
   "source": [
    "weather_df.info()"
   ]
  },
  {
   "cell_type": "markdown",
   "metadata": {},
   "source": [
    "## Preprocessing:"
   ]
  },
  {
   "cell_type": "code",
   "execution_count": 7,
   "metadata": {},
   "outputs": [],
   "source": [
    "weather_df = weather_df.replace('T', 0.0)\n",
    "  \n",
    "# the data also contains '-' which indicates no \n",
    "# or NIL. This means that data is not available\n",
    "# we need to replace these values as well.\n",
    "weather_df =weather_df.replace('-', 0.0)"
   ]
  },
  {
   "cell_type": "markdown",
   "metadata": {},
   "source": [
    "### Replacing Non-Numeric values with Numeric values:"
   ]
  },
  {
   "cell_type": "code",
   "execution_count": 8,
   "metadata": {},
   "outputs": [],
   "source": [
    "col=list(weather_df.columns)\n",
    "for i in col[1:-1]:\n",
    "    weather_df[i]=weather_df[i].astype(float)"
   ]
  },
  {
   "cell_type": "code",
   "execution_count": 9,
   "metadata": {},
   "outputs": [],
   "source": [
    "X = np.array([np.ones(1319, dtype=np.int32), weather_df[weather_df.columns[1]], weather_df[weather_df.columns[2]], weather_df[weather_df.columns[3]], weather_df[weather_df.columns[4]], weather_df[weather_df.columns[5]], weather_df[weather_df.columns[6]], weather_df[weather_df.columns[7]], weather_df[weather_df.columns[8]], weather_df[weather_df.columns[9]], weather_df[weather_df.columns[10]], weather_df[weather_df.columns[11]], weather_df[weather_df.columns[12]], weather_df[weather_df.columns[13]], weather_df[weather_df.columns[14]], weather_df[weather_df.columns[15]], weather_df[weather_df.columns[16]], weather_df[weather_df.columns[17]], weather_df[weather_df.columns[18]]]).T\n",
    "y = np.array(weather_df['PrecipitationSumInches'])"
   ]
  },
  {
   "cell_type": "code",
   "execution_count": 10,
   "metadata": {},
   "outputs": [
    {
     "data": {
      "text/plain": [
       "array([-0.58615622,  0.02303112, -0.03843931,  0.02096202,  0.01289441,\n",
       "       -0.02819369,  0.01253646,  0.00381686, -0.01199894,  0.01220187,\n",
       "       -0.09774172, -0.00705687,  0.10158368,  0.10428125, -0.09421623,\n",
       "       -0.00709703,  0.04845673, -0.04163243, -0.003217  ])"
      ]
     },
     "execution_count": 10,
     "metadata": {},
     "output_type": "execute_result"
    }
   ],
   "source": [
    "B = np.linalg.inv((X.T)@X)@(X.T)@y\n",
    "B"
   ]
  },
  {
   "cell_type": "code",
   "execution_count": 11,
   "metadata": {},
   "outputs": [],
   "source": [
    "y_pred = X@B"
   ]
  },
  {
   "cell_type": "markdown",
   "metadata": {},
   "source": [
    "### Evaluation Parameters:"
   ]
  },
  {
   "cell_type": "code",
   "execution_count": 12,
   "metadata": {},
   "outputs": [
    {
     "name": "stdout",
     "output_type": "stream",
     "text": [
      "SSR: 73.61\n",
      "SSE: 168.03\n",
      "SST: 241.63\n",
      "R_2: 0.30461\n"
     ]
    }
   ],
   "source": [
    "mean_y = np.mean(y)\n",
    "mean_y_pred = np.mean(y_pred)\n",
    "\n",
    "SSR = np.sum((y_pred - mean_y)**2)\n",
    "SSE = np.sum((y - y_pred)**2)\n",
    "SST = np.sum((y - mean_y)**2)\n",
    "R_2 = 1-(SSE/SST)\n",
    "\n",
    "print(f\"SSR: {round(SSR, 2)}\")\n",
    "print(f\"SSE: {round(SSE, 2)}\")\n",
    "print(f\"SST: {round(SST, 2)}\")\n",
    "print(f\"R_2: {round(R_2, 5)}\")"
   ]
  },
  {
   "cell_type": "markdown",
   "metadata": {},
   "source": [
    "### T-test:"
   ]
  },
  {
   "cell_type": "code",
   "execution_count": 13,
   "metadata": {},
   "outputs": [
    {
     "name": "stdout",
     "output_type": "stream",
     "text": [
      "t_test_val > 0.05 so we will not reject the hypothesis\n",
      "t_test value:  0.3989422802454451\n"
     ]
    }
   ],
   "source": [
    "t_val = (abs(mean_y - mean_y_pred)*((weather_df.shape[0])**0.5))/np.std(y-y_pred)\n",
    "\n",
    "t_test_val = (1/(2*math.pi)**0.5)*math.exp(-0.5*t_val)\n",
    "print(\"t_test_val > 0.05 so we will not reject the hypothesis\")\n",
    "print(\"t_test value: \", t_test_val)"
   ]
  },
  {
   "cell_type": "markdown",
   "metadata": {},
   "source": [
    "### F-test:"
   ]
  },
  {
   "cell_type": "code",
   "execution_count": 14,
   "metadata": {},
   "outputs": [
    {
     "name": "stdout",
     "output_type": "stream",
     "text": [
      "f_test_val > 0.05, so we will not reject the hypothesis\n",
      "f_test value:  0.07727720830354563\n"
     ]
    }
   ],
   "source": [
    "f_val = (np.std(y))**2/(np.std(y_pred))**2\n",
    "\n",
    "f_test_val = (1/(2*math.pi)**0.5)*math.exp(-0.5*f_val)\n",
    "print(\"f_test_val > 0.05, so we will not reject the hypothesis\")\n",
    "print(\"f_test value: \", f_test_val)"
   ]
  },
  {
   "cell_type": "markdown",
   "metadata": {},
   "source": [
    "## Question 2:"
   ]
  },
  {
   "cell_type": "code",
   "execution_count": 15,
   "metadata": {},
   "outputs": [],
   "source": [
    "def batch_gradient_descent(X, y, epochs = 1000, learning_rate = 0.01):\n",
    "    W = np.ones(shape=2)\n",
    "    b = 0\n",
    "    \n",
    "    for i in range(epochs):\n",
    "        y_pred = X@W + b\n",
    "        cost = np.mean(np.square(y - y_pred))\n",
    "        \n",
    "        dW = (-2/500)*np.dot(X.T, y-y_pred)\n",
    "        db = (-2/500)*np.sum(y-y_pred)\n",
    "        \n",
    "        W = W - learning_rate*dW\n",
    "        b = b - learning_rate*db\n",
    "        \n",
    "        if (i+1)%50 == 0:\n",
    "            print(f'Epoch {i+1} -->  Weights: {round(W[0], 2), round(W[1], 2)},  Bias: {round(b, 2)},  Cost: {cost}')\n",
    "            \n",
    "    return W, b, cost"
   ]
  },
  {
   "cell_type": "code",
   "execution_count": 16,
   "metadata": {},
   "outputs": [],
   "source": [
    "def stochastic_gradient_descent(X, y, epochs = 1000, learning_rate = 0.01):\n",
    "    W = np.ones(shape=2)\n",
    "    b = 0\n",
    "    \n",
    "    for k in range(epochs):\n",
    "        y_Pred = X@W + b\n",
    "        cost = np.mean(np.square(y - y_Pred))\n",
    "        \n",
    "        for i in range(500):\n",
    "            y_pred = X[i]@W + b\n",
    "    \n",
    "            dW = (X[i]*(-1/500)*(y[i]-y_pred))\n",
    "            db = (-1/500)*(y[i]-y_pred)\n",
    "        \n",
    "            W = W - learning_rate*dW\n",
    "            b = b - learning_rate*db\n",
    "        \n",
    "        if (k+1)%50 == 0:\n",
    "            print(f'Epoch {k+1} -->  Weights: {round(W[0], 2), round(W[1], 2)},  Bias: {round(b, 2)},  Cost: {cost}')\n",
    "            \n",
    "    return W, b, cost"
   ]
  },
  {
   "cell_type": "markdown",
   "metadata": {},
   "source": [
    "### No 2 (a) "
   ]
  },
  {
   "cell_type": "code",
   "execution_count": 17,
   "metadata": {},
   "outputs": [
    {
     "name": "stdout",
     "output_type": "stream",
     "text": [
      "B0 = 2, B1 = 4, B2 = 6\n"
     ]
    }
   ],
   "source": [
    "print(\"B0 = 2, B1 = 4, B2 = 6\")"
   ]
  },
  {
   "cell_type": "code",
   "execution_count": 18,
   "metadata": {},
   "outputs": [],
   "source": [
    "X = []\n",
    "y = []\n",
    "B0, B1, B2 = 2, 4, 6\n",
    "\n",
    "\n",
    "for i in range(500):\n",
    "    x = [random.uniform(1, 10), random.uniform(1, 10)]\n",
    "    \n",
    "    y.append(B0 + B1*x[0] + B2*x[1])\n",
    "    X.append(x)\n",
    "    \n",
    "X = np.array(X)\n",
    "y = np.array(y)"
   ]
  },
  {
   "cell_type": "code",
   "execution_count": 19,
   "metadata": {
    "scrolled": false
   },
   "outputs": [
    {
     "name": "stdout",
     "output_type": "stream",
     "text": [
      "Input Learning Rate0.01\n",
      "Epoch 50 -->  Weights: (4.1, 6.1),  Bias: 0.79,  Cost: 0.13310587488043732\n",
      "Epoch 100 -->  Weights: (4.09, 6.09),  Bias: 0.89,  Cost: 0.11135758327963058\n",
      "Epoch 150 -->  Weights: (4.09, 6.08),  Bias: 0.99,  Cost: 0.09317147803967196\n",
      "Epoch 200 -->  Weights: (4.08, 6.07),  Bias: 1.07,  Cost: 0.0779553943712468\n",
      "Epoch 250 -->  Weights: (4.07, 6.07),  Bias: 1.15,  Cost: 0.06522429008788745\n",
      "Epoch 300 -->  Weights: (4.07, 6.06),  Bias: 1.22,  Cost: 0.0545723365493985\n",
      "Epoch 350 -->  Weights: (4.06, 6.06),  Bias: 1.29,  Cost: 0.04565998207796396\n",
      "Epoch 400 -->  Weights: (4.05, 6.05),  Bias: 1.35,  Cost: 0.03820312808986815\n",
      "Epoch 450 -->  Weights: (4.05, 6.05),  Bias: 1.41,  Cost: 0.031964072902147644\n",
      "Epoch 500 -->  Weights: (4.05, 6.04),  Bias: 1.46,  Cost: 0.026743934530450545\n",
      "Epoch 550 -->  Weights: (4.04, 6.04),  Bias: 1.5,  Cost: 0.02237631094005328\n",
      "Epoch 600 -->  Weights: (4.04, 6.04),  Bias: 1.55,  Cost: 0.018721975658288228\n",
      "Epoch 650 -->  Weights: (4.04, 6.03),  Bias: 1.58,  Cost: 0.01566443966070091\n",
      "Epoch 700 -->  Weights: (4.03, 6.03),  Bias: 1.62,  Cost: 0.013106238057473765\n",
      "Epoch 750 -->  Weights: (4.03, 6.03),  Bias: 1.65,  Cost: 0.010965823211034103\n",
      "Epoch 800 -->  Weights: (4.03, 6.03),  Bias: 1.68,  Cost: 0.009174965246956756\n",
      "Epoch 850 -->  Weights: (4.02, 6.02),  Bias: 1.71,  Cost: 0.007676577094381488\n",
      "Epoch 900 -->  Weights: (4.02, 6.02),  Bias: 1.73,  Cost: 0.006422894724917476\n",
      "Epoch 950 -->  Weights: (4.02, 6.02),  Bias: 1.76,  Cost: 0.005373954581602153\n",
      "Epoch 1000 -->  Weights: (4.02, 6.02),  Bias: 1.78,  Cost: 0.004496319663015563\n",
      "Epoch 1050 -->  Weights: (4.02, 6.02),  Bias: 1.8,  Cost: 0.00376201365401013\n",
      "Epoch 1100 -->  Weights: (4.02, 6.02),  Bias: 1.81,  Cost: 0.003147629126410412\n",
      "Epoch 1150 -->  Weights: (4.01, 6.01),  Bias: 1.83,  Cost: 0.002633581381839721\n",
      "Epoch 1200 -->  Weights: (4.01, 6.01),  Bias: 1.84,  Cost: 0.002203484151476711\n",
      "Epoch 1250 -->  Weights: (4.01, 6.01),  Bias: 1.86,  Cost: 0.0018436272519581358\n",
      "Epoch 1300 -->  Weights: (4.01, 6.01),  Bias: 1.87,  Cost: 0.0015425395466925362\n",
      "Epoch 1350 -->  Weights: (4.01, 6.01),  Bias: 1.88,  Cost: 0.0012906232811338645\n",
      "Epoch 1400 -->  Weights: (4.01, 6.01),  Bias: 1.89,  Cost: 0.0010798481357425312\n",
      "Epoch 1450 -->  Weights: (4.01, 6.01),  Bias: 1.9,  Cost: 0.0009034952439738437\n",
      "Epoch 1500 -->  Weights: (4.01, 6.01),  Bias: 1.91,  Cost: 0.0007559430153778299\n",
      "Epoch 1550 -->  Weights: (4.01, 6.01),  Bias: 1.92,  Cost: 0.0006324879365001135\n",
      "Epoch 1600 -->  Weights: (4.01, 6.01),  Bias: 1.92,  Cost: 0.00052919463726795\n",
      "Epoch 1650 -->  Weights: (4.01, 6.01),  Bias: 1.93,  Cost: 0.0004427704434377835\n",
      "Epoch 1700 -->  Weights: (4.01, 6.01),  Bias: 1.94,  Cost: 0.0003704604162169526\n",
      "Epoch 1750 -->  Weights: (4.0, 6.0),  Bias: 1.94,  Cost: 0.00030995953324715043\n",
      "Epoch 1800 -->  Weights: (4.0, 6.0),  Bias: 1.95,  Cost: 0.00025933921154621385\n",
      "Epoch 1850 -->  Weights: (4.0, 6.0),  Bias: 1.95,  Cost: 0.00021698583018522463\n",
      "Epoch 1900 -->  Weights: (4.0, 6.0),  Bias: 1.96,  Cost: 0.00018154929299131907\n",
      "Epoch 1950 -->  Weights: (4.0, 6.0),  Bias: 1.96,  Cost: 0.00015189999161474793\n",
      "Epoch 2000 -->  Weights: (4.0, 6.0),  Bias: 1.96,  Cost: 0.00012709279707120744\n"
     ]
    }
   ],
   "source": [
    "lr=float(input(\"Input Learning Rate\"))\n",
    "batch_W, batch_b, _ = batch_gradient_descent(X, y,2000, lr)"
   ]
  },
  {
   "cell_type": "code",
   "execution_count": 20,
   "metadata": {},
   "outputs": [
    {
     "name": "stdout",
     "output_type": "stream",
     "text": [
      "Epoch 50 -->  Weights: (4.14, 6.07),  Bias: 0.73,  Cost: 0.1656371273687205\n",
      "Epoch 100 -->  Weights: (4.1, 6.1),  Bias: 0.79,  Cost: 0.13292092354196744\n",
      "Epoch 150 -->  Weights: (4.1, 6.09),  Bias: 0.84,  Cost: 0.12156242382665243\n",
      "Epoch 200 -->  Weights: (4.09, 6.09),  Bias: 0.89,  Cost: 0.11119730200104576\n",
      "Epoch 250 -->  Weights: (4.09, 6.09),  Bias: 0.94,  Cost: 0.10171599109317839\n",
      "Epoch 300 -->  Weights: (4.09, 6.08),  Bias: 0.99,  Cost: 0.09304311002704917\n",
      "Epoch 350 -->  Weights: (4.08, 6.08),  Bias: 1.03,  Cost: 0.08510972787122324\n",
      "Epoch 400 -->  Weights: (4.08, 6.07),  Bias: 1.07,  Cost: 0.07785279077797347\n",
      "Epoch 450 -->  Weights: (4.08, 6.07),  Bias: 1.11,  Cost: 0.0712146212133153\n",
      "Epoch 500 -->  Weights: (4.07, 6.07),  Bias: 1.15,  Cost: 0.06514245955574358\n",
      "Epoch 550 -->  Weights: (4.07, 6.07),  Bias: 1.19,  Cost: 0.059588044767672724\n",
      "Epoch 600 -->  Weights: (4.07, 6.06),  Bias: 1.22,  Cost: 0.0545072308207167\n",
      "Epoch 650 -->  Weights: (4.06, 6.06),  Bias: 1.26,  Cost: 0.04985963582672668\n",
      "Epoch 700 -->  Weights: (4.06, 6.06),  Bias: 1.29,  Cost: 0.04560832108588384\n",
      "Epoch 750 -->  Weights: (4.06, 6.05),  Bias: 1.32,  Cost: 0.04171949750098752\n",
      "Epoch 800 -->  Weights: (4.05, 6.05),  Bias: 1.35,  Cost: 0.03816225702448716\n",
      "Epoch 850 -->  Weights: (4.05, 6.05),  Bias: 1.38,  Cost: 0.03490832700390514\n",
      "Epoch 900 -->  Weights: (4.05, 6.05),  Bias: 1.41,  Cost: 0.031931845473120536\n",
      "Epoch 950 -->  Weights: (4.05, 6.05),  Bias: 1.43,  Cost: 0.029209155603626375\n",
      "Epoch 1000 -->  Weights: (4.05, 6.04),  Bias: 1.46,  Cost: 0.02671861768199386\n",
      "Epoch 1050 -->  Weights: (4.04, 6.04),  Bias: 1.48,  Cost: 0.024440437119240387\n",
      "Epoch 1100 -->  Weights: (4.04, 6.04),  Bias: 1.5,  Cost: 0.0223565071250736\n",
      "Epoch 1150 -->  Weights: (4.04, 6.04),  Bias: 1.52,  Cost: 0.02045026479661446\n",
      "Epoch 1200 -->  Weights: (4.04, 6.04),  Bias: 1.55,  Cost: 0.01870655947782754\n",
      "Epoch 1250 -->  Weights: (4.04, 6.04),  Bias: 1.57,  Cost: 0.01711153234335523\n",
      "Epoch 1300 -->  Weights: (4.04, 6.03),  Bias: 1.58,  Cost: 0.015652506249734063\n",
      "Epoch 1350 -->  Weights: (4.03, 6.03),  Bias: 1.6,  Cost: 0.01431788497849588\n",
      "Epoch 1400 -->  Weights: (4.03, 6.03),  Bias: 1.62,  Cost: 0.01309706107039009\n",
      "Epoch 1450 -->  Weights: (4.03, 6.03),  Bias: 1.64,  Cost: 0.011980331518177975\n",
      "Epoch 1500 -->  Weights: (4.03, 6.03),  Bias: 1.65,  Cost: 0.01095882064793311\n",
      "Epoch 1550 -->  Weights: (4.03, 6.03),  Bias: 1.67,  Cost: 0.010024409575924723\n",
      "Epoch 1600 -->  Weights: (4.03, 6.03),  Bias: 1.68,  Cost: 0.009169671680396825\n",
      "Epoch 1650 -->  Weights: (4.03, 6.02),  Bias: 1.7,  Cost: 0.008387813575395572\n",
      "Epoch 1700 -->  Weights: (4.02, 6.02),  Bias: 1.71,  Cost: 0.007672621117504623\n",
      "Epoch 1750 -->  Weights: (4.02, 6.02),  Bias: 1.72,  Cost: 0.007018410016342674\n",
      "Epoch 1800 -->  Weights: (4.02, 6.02),  Bias: 1.73,  Cost: 0.0064199806563009325\n",
      "Epoch 1850 -->  Weights: (4.02, 6.02),  Bias: 1.75,  Cost: 0.005872576770422617\n",
      "Epoch 1900 -->  Weights: (4.02, 6.02),  Bias: 1.76,  Cost: 0.005371847637992213\n",
      "Epoch 1950 -->  Weights: (4.02, 6.02),  Bias: 1.77,  Cost: 0.004913813505365884\n",
      "Epoch 2000 -->  Weights: (4.02, 6.02),  Bias: 1.78,  Cost: 0.004494833955220073\n"
     ]
    }
   ],
   "source": [
    "stochastic_W, stochastic_b, _ = stochastic_gradient_descent(X, y, 2000, 0.01)"
   ]
  },
  {
   "cell_type": "code",
   "execution_count": 21,
   "metadata": {},
   "outputs": [
    {
     "name": "stdout",
     "output_type": "stream",
     "text": [
      "Parameters (Batch Gradient Descent) ==> Weights: (4.0, 6.0), Bias: 1.96\n",
      "Parameters (Stochastic Gradient Descent) ==> Weights: (4.02, 6.02), Bias: 1.78\n"
     ]
    }
   ],
   "source": [
    "print(f\"Parameters (Batch Gradient Descent) ==> Weights: {round(batch_W[0], 2), round(batch_W[1], 2)}, Bias: {round(batch_b, 2)}\")\n",
    "print(f\"Parameters (Stochastic Gradient Descent) ==> Weights: {round(stochastic_W[0], 2), round(stochastic_W[1], 2)}, Bias: {round(stochastic_b, 2)}\")"
   ]
  },
  {
   "cell_type": "markdown",
   "metadata": {},
   "source": [
    "###  No 2 (b) "
   ]
  },
  {
   "cell_type": "code",
   "execution_count": 22,
   "metadata": {},
   "outputs": [
    {
     "name": "stdout",
     "output_type": "stream",
     "text": [
      "B0 = 3, B1 = 5, B2 = 7\n"
     ]
    }
   ],
   "source": [
    "print(\"B0 = 3, B1 = 5, B2 = 7\")"
   ]
  },
  {
   "cell_type": "code",
   "execution_count": 23,
   "metadata": {},
   "outputs": [],
   "source": [
    "X = []\n",
    "y = []\n",
    "B0, B1, B2 = 3, 5, 7\n",
    "\n",
    "for i in range(500):\n",
    "    x = [random.uniform(1, 10), random.uniform(1, 10)]\n",
    "    \n",
    "    y.append(B0 + B1*x[0] + B2*x[1])\n",
    "    X.append(x)\n",
    "    \n",
    "X = np.array(X)\n",
    "y = np.array(y)"
   ]
  },
  {
   "cell_type": "code",
   "execution_count": 24,
   "metadata": {},
   "outputs": [
    {
     "name": "stdout",
     "output_type": "stream",
     "text": [
      "Epoch 50 -->  Weights: (5.16, 7.16),  Bias: 1.04,  Cost: 0.3831668911330629\n",
      "Epoch 100 -->  Weights: (5.14, 7.15),  Bias: 1.23,  Cost: 0.3146551892345146\n",
      "Epoch 150 -->  Weights: (5.13, 7.13),  Bias: 1.39,  Cost: 0.258398177200677\n",
      "Epoch 200 -->  Weights: (5.12, 7.12),  Bias: 1.54,  Cost: 0.21219932251396822\n",
      "Epoch 250 -->  Weights: (5.1, 7.11),  Bias: 1.68,  Cost: 0.17426033327014528\n",
      "Epoch 300 -->  Weights: (5.1, 7.1),  Bias: 1.8,  Cost: 0.14310443309461038\n",
      "Epoch 350 -->  Weights: (5.09, 7.09),  Bias: 1.92,  Cost: 0.1175188775725733\n",
      "Epoch 400 -->  Weights: (5.08, 7.08),  Bias: 2.02,  Cost: 0.09650774813374624\n",
      "Epoch 450 -->  Weights: (5.07, 7.07),  Bias: 2.11,  Cost: 0.07925318589002812\n",
      "Epoch 500 -->  Weights: (5.06, 7.07),  Bias: 2.19,  Cost: 0.06508355645201516\n",
      "Epoch 550 -->  Weights: (5.06, 7.06),  Bias: 2.27,  Cost: 0.05344730653882263\n",
      "Epoch 600 -->  Weights: (5.05, 7.05),  Bias: 2.34,  Cost: 0.0438914947489227\n",
      "Epoch 650 -->  Weights: (5.05, 7.05),  Bias: 2.4,  Cost: 0.036044160801542546\n",
      "Epoch 700 -->  Weights: (5.04, 7.04),  Bias: 2.46,  Cost: 0.029599846970793407\n",
      "Epoch 750 -->  Weights: (5.04, 7.04),  Bias: 2.51,  Cost: 0.02430770813387652\n",
      "Epoch 800 -->  Weights: (5.04, 7.04),  Bias: 2.55,  Cost: 0.019961747616624777\n",
      "Epoch 850 -->  Weights: (5.03, 7.03),  Bias: 2.6,  Cost: 0.01639279876635123\n",
      "Epoch 900 -->  Weights: (5.03, 7.03),  Bias: 2.63,  Cost: 0.013461940134454505\n",
      "Epoch 950 -->  Weights: (5.03, 7.03),  Bias: 2.67,  Cost: 0.011055087954572895\n",
      "Epoch 1000 -->  Weights: (5.02, 7.02),  Bias: 2.7,  Cost: 0.009078555428317852\n",
      "Epoch 1050 -->  Weights: (5.02, 7.02),  Bias: 2.73,  Cost: 0.007455405963636253\n",
      "Epoch 1100 -->  Weights: (5.02, 7.02),  Bias: 2.75,  Cost: 0.006122458415492865\n",
      "Epoch 1150 -->  Weights: (5.02, 7.02),  Bias: 2.78,  Cost: 0.00502782775777278\n",
      "Epoch 1200 -->  Weights: (5.02, 7.02),  Bias: 2.8,  Cost: 0.004128905456975643\n",
      "Epoch 1250 -->  Weights: (5.01, 7.02),  Bias: 2.82,  Cost: 0.0033907009336754017\n",
      "Epoch 1300 -->  Weights: (5.01, 7.01),  Bias: 2.83,  Cost: 0.0027844795530992845\n",
      "Epoch 1350 -->  Weights: (5.01, 7.01),  Bias: 2.85,  Cost: 0.002286644128541493\n",
      "Epoch 1400 -->  Weights: (5.01, 7.01),  Bias: 2.86,  Cost: 0.0018778164001139307\n",
      "Epoch 1450 -->  Weights: (5.01, 7.01),  Bias: 2.88,  Cost: 0.001542082735360692\n",
      "Epoch 1500 -->  Weights: (5.01, 7.01),  Bias: 2.89,  Cost: 0.0012663746905996523\n",
      "Epoch 1550 -->  Weights: (5.01, 7.01),  Bias: 2.9,  Cost: 0.0010399603213354619\n",
      "Epoch 1600 -->  Weights: (5.01, 7.01),  Bias: 2.91,  Cost: 0.0008540264409737282\n",
      "Epoch 1650 -->  Weights: (5.01, 7.01),  Bias: 2.92,  Cost: 0.000701335567250823\n",
      "Epoch 1700 -->  Weights: (5.01, 7.01),  Bias: 2.92,  Cost: 0.0005759442030040814\n",
      "Epoch 1750 -->  Weights: (5.01, 7.01),  Bias: 2.93,  Cost: 0.00047297148535379864\n",
      "Epoch 1800 -->  Weights: (5.0, 7.01),  Bias: 2.94,  Cost: 0.0003884091979587036\n",
      "Epoch 1850 -->  Weights: (5.0, 7.0),  Bias: 2.94,  Cost: 0.0003189657510664963\n",
      "Epoch 1900 -->  Weights: (5.0, 7.0),  Bias: 2.95,  Cost: 0.0002619380562770023\n",
      "Epoch 1950 -->  Weights: (5.0, 7.0),  Bias: 2.95,  Cost: 0.00021510630873931358\n",
      "Epoch 2000 -->  Weights: (5.0, 7.0),  Bias: 2.96,  Cost: 0.00017664758117676073\n"
     ]
    }
   ],
   "source": [
    "batch_W, batch_b, _ = batch_gradient_descent(X, y, 2000, 0.01)"
   ]
  },
  {
   "cell_type": "code",
   "execution_count": 25,
   "metadata": {},
   "outputs": [
    {
     "name": "stdout",
     "output_type": "stream",
     "text": [
      "Epoch 50 -->  Weights: (5.2, 7.14),  Bias: 0.94,  Cost: 0.4388971424001438\n",
      "Epoch 100 -->  Weights: (5.16, 7.16),  Bias: 1.04,  Cost: 0.3822075143075178\n",
      "Epoch 150 -->  Weights: (5.15, 7.15),  Bias: 1.14,  Cost: 0.3463548522546539\n",
      "Epoch 200 -->  Weights: (5.14, 7.15),  Bias: 1.23,  Cost: 0.3138829305054491\n",
      "Epoch 250 -->  Weights: (5.13, 7.14),  Bias: 1.31,  Cost: 0.2844555039776476\n",
      "Epoch 300 -->  Weights: (5.13, 7.13),  Bias: 1.39,  Cost: 0.25778698709945197\n",
      "Epoch 350 -->  Weights: (5.12, 7.13),  Bias: 1.47,  Cost: 0.2336187200479214\n",
      "Epoch 400 -->  Weights: (5.12, 7.12),  Bias: 1.54,  Cost: 0.21171629713264586\n",
      "Epoch 450 -->  Weights: (5.11, 7.11),  Bias: 1.61,  Cost: 0.19186728898431318\n",
      "Epoch 500 -->  Weights: (5.1, 7.11),  Bias: 1.68,  Cost: 0.17387918209776007\n",
      "Epoch 550 -->  Weights: (5.1, 7.1),  Bias: 1.74,  Cost: 0.15757751165942005\n",
      "Epoch 600 -->  Weights: (5.1, 7.1),  Bias: 1.8,  Cost: 0.14280416943078397\n",
      "Epoch 650 -->  Weights: (5.09, 7.09),  Bias: 1.86,  Cost: 0.12941587027273524\n",
      "Epoch 700 -->  Weights: (5.09, 7.09),  Bias: 1.92,  Cost: 0.11728276243760147\n",
      "Epoch 750 -->  Weights: (5.08, 7.08),  Bias: 1.97,  Cost: 0.10628716815028977\n",
      "Epoch 800 -->  Weights: (5.08, 7.08),  Bias: 2.02,  Cost: 0.09632244226356877\n",
      "Epoch 850 -->  Weights: (5.07, 7.08),  Bias: 2.07,  Cost: 0.08729193791765612\n",
      "Epoch 900 -->  Weights: (5.07, 7.07),  Bias: 2.11,  Cost: 0.07910806917218347\n",
      "Epoch 950 -->  Weights: (5.07, 7.07),  Bias: 2.15,  Cost: 0.07169146151909664\n",
      "Epoch 1000 -->  Weights: (5.06, 7.07),  Bias: 2.19,  Cost: 0.06497018203740083\n",
      "Epoch 1050 -->  Weights: (5.06, 7.06),  Bias: 2.23,  Cost: 0.05887904172310263\n",
      "Epoch 1100 -->  Weights: (5.06, 7.06),  Bias: 2.27,  Cost: 0.05335896322770136\n",
      "Epoch 1150 -->  Weights: (5.06, 7.06),  Bias: 2.3,  Cost: 0.04835640787302804\n",
      "Epoch 1200 -->  Weights: (5.05, 7.05),  Bias: 2.34,  Cost: 0.04382285638504877\n",
      "Epoch 1250 -->  Weights: (5.05, 7.05),  Bias: 2.37,  Cost: 0.03971433831038342\n",
      "Epoch 1300 -->  Weights: (5.05, 7.05),  Bias: 2.4,  Cost: 0.03599100555138233\n",
      "Epoch 1350 -->  Weights: (5.05, 7.05),  Bias: 2.43,  Cost: 0.0326167458834659\n",
      "Epoch 1400 -->  Weights: (5.04, 7.04),  Bias: 2.46,  Cost: 0.029558832706349326\n",
      "Epoch 1450 -->  Weights: (5.04, 7.04),  Bias: 2.48,  Cost: 0.026787607632090787\n",
      "Epoch 1500 -->  Weights: (5.04, 7.04),  Bias: 2.51,  Cost: 0.024276192831414554\n",
      "Epoch 1550 -->  Weights: (5.04, 7.04),  Bias: 2.53,  Cost: 0.022000230348377347\n",
      "Epoch 1600 -->  Weights: (5.04, 7.04),  Bias: 2.55,  Cost: 0.01993764585505099\n",
      "Epoch 1650 -->  Weights: (5.03, 7.03),  Bias: 2.57,  Cost: 0.01806843455485844\n",
      "Epoch 1700 -->  Weights: (5.03, 7.03),  Bias: 2.6,  Cost: 0.016374467158091377\n",
      "Epoch 1750 -->  Weights: (5.03, 7.03),  Bias: 2.61,  Cost: 0.014839314047787301\n",
      "Epoch 1800 -->  Weights: (5.03, 7.03),  Bias: 2.63,  Cost: 0.013448085930543311\n",
      "Epoch 1850 -->  Weights: (5.03, 7.03),  Bias: 2.65,  Cost: 0.012187289426781931\n",
      "Epoch 1900 -->  Weights: (5.03, 7.03),  Bias: 2.67,  Cost: 0.011044696199833287\n",
      "Epoch 1950 -->  Weights: (5.03, 7.03),  Bias: 2.68,  Cost: 0.01000922435455977\n",
      "Epoch 2000 -->  Weights: (5.02, 7.02),  Bias: 2.7,  Cost: 0.0090708309551717\n"
     ]
    }
   ],
   "source": [
    "stochastic_W, stochastic_b, _ = stochastic_gradient_descent(X, y, 2000, 0.01)"
   ]
  },
  {
   "cell_type": "code",
   "execution_count": 26,
   "metadata": {},
   "outputs": [
    {
     "name": "stdout",
     "output_type": "stream",
     "text": [
      "Parameters (Batch Gradient Descent) ==> Weights: (5.0, 7.0), Bias: 2.96\n",
      "Parameters (Stochastic Gradient Descent) ==> Weights: (5.02, 7.02), Bias: 2.7\n"
     ]
    }
   ],
   "source": [
    "print(f\"Parameters (Batch Gradient Descent) ==> Weights: {round(batch_W[0], 2), round(batch_W[1], 2)}, Bias: {round(batch_b, 2)}\")\n",
    "print(f\"Parameters (Stochastic Gradient Descent) ==> Weights: {round(stochastic_W[0], 2), round(stochastic_W[1], 2)}, Bias: {round(stochastic_b, 2)}\")"
   ]
  },
  {
   "cell_type": "markdown",
   "metadata": {},
   "source": [
    "###  No 2(c) "
   ]
  },
  {
   "cell_type": "code",
   "execution_count": 27,
   "metadata": {},
   "outputs": [
    {
     "name": "stdout",
     "output_type": "stream",
     "text": [
      "B0 = 5, B1 = 12, B2 = 13\n"
     ]
    }
   ],
   "source": [
    "print(\"B0 = 5, B1 = 12, B2 = 13\")"
   ]
  },
  {
   "cell_type": "code",
   "execution_count": 28,
   "metadata": {},
   "outputs": [],
   "source": [
    "X = []\n",
    "y = []\n",
    "B0, B1, B2 = 5, 12, 13\n",
    "\n",
    "for i in range(500):\n",
    "    x = [random.uniform(1, 10), random.uniform(1, 10)]\n",
    "    \n",
    "    y.append(B0 + B1*x[0] + B2*x[1])\n",
    "    X.append(x)\n",
    "    \n",
    "X = np.array(X)\n",
    "y = np.array(y)"
   ]
  },
  {
   "cell_type": "code",
   "execution_count": 29,
   "metadata": {},
   "outputs": [
    {
     "name": "stdout",
     "output_type": "stream",
     "text": [
      "Epoch 50 -->  Weights: (12.25, 13.21),  Bias: 2.18,  Cost: 0.7789607644498665\n",
      "Epoch 100 -->  Weights: (12.22, 13.19),  Bias: 2.44,  Cost: 0.642544739779901\n",
      "Epoch 150 -->  Weights: (12.2, 13.17),  Bias: 2.67,  Cost: 0.5300195061643826\n",
      "Epoch 200 -->  Weights: (12.18, 13.16),  Bias: 2.89,  Cost: 0.43720018159520896\n",
      "Epoch 250 -->  Weights: (12.17, 13.14),  Bias: 3.08,  Cost: 0.3606357814453728\n",
      "Epoch 300 -->  Weights: (12.15, 13.13),  Bias: 3.26,  Cost: 0.29747967254764746\n",
      "Epoch 350 -->  Weights: (12.14, 13.12),  Bias: 3.42,  Cost: 0.24538373653436044\n",
      "Epoch 400 -->  Weights: (12.13, 13.11),  Bias: 3.56,  Cost: 0.20241106775429002\n",
      "Epoch 450 -->  Weights: (12.11, 13.1),  Bias: 3.69,  Cost: 0.16696395991057603\n",
      "Epoch 500 -->  Weights: (12.1, 13.09),  Bias: 3.81,  Cost: 0.13772450399234848\n",
      "Epoch 550 -->  Weights: (12.09, 13.08),  Bias: 3.92,  Cost: 0.11360558895522926\n",
      "Epoch 600 -->  Weights: (12.09, 13.07),  Bias: 4.02,  Cost: 0.09371048337615873\n",
      "Epoch 650 -->  Weights: (12.08, 13.07),  Bias: 4.11,  Cost: 0.07729949534484408\n",
      "Epoch 700 -->  Weights: (12.07, 13.06),  Bias: 4.19,  Cost: 0.06376247102027072\n",
      "Epoch 750 -->  Weights: (12.06, 13.05),  Bias: 4.27,  Cost: 0.05259610935974904\n",
      "Epoch 800 -->  Weights: (12.06, 13.05),  Bias: 4.33,  Cost: 0.04338524959145668\n",
      "Epoch 850 -->  Weights: (12.05, 13.04),  Bias: 4.4,  Cost: 0.035787435706290935\n",
      "Epoch 900 -->  Weights: (12.05, 13.04),  Bias: 4.45,  Cost: 0.029520184083122025\n",
      "Epoch 950 -->  Weights: (12.04, 13.04),  Bias: 4.5,  Cost: 0.024350480862985687\n",
      "Epoch 1000 -->  Weights: (12.04, 13.03),  Bias: 4.55,  Cost: 0.02008611858886147\n",
      "Epoch 1050 -->  Weights: (12.04, 13.03),  Bias: 4.59,  Cost: 0.016568550010817525\n",
      "Epoch 1100 -->  Weights: (12.03, 13.03),  Bias: 4.63,  Cost: 0.013666993363922405\n",
      "Epoch 1150 -->  Weights: (12.03, 13.03),  Bias: 4.66,  Cost: 0.011273569955583014\n",
      "Epoch 1200 -->  Weights: (12.03, 13.02),  Bias: 4.69,  Cost: 0.0092992932797432\n",
      "Epoch 1250 -->  Weights: (12.02, 13.02),  Bias: 4.72,  Cost: 0.007670760534895876\n",
      "Epoch 1300 -->  Weights: (12.02, 13.02),  Bias: 4.75,  Cost: 0.0063274235378604875\n",
      "Epoch 1350 -->  Weights: (12.02, 13.02),  Bias: 4.77,  Cost: 0.005219337567030694\n",
      "Epoch 1400 -->  Weights: (12.02, 13.02),  Bias: 4.79,  Cost: 0.004305304437992949\n",
      "Epoch 1450 -->  Weights: (12.02, 13.01),  Bias: 4.81,  Cost: 0.003551340771842097\n",
      "Epoch 1500 -->  Weights: (12.02, 13.01),  Bias: 4.83,  Cost: 0.002929414507009227\n",
      "Epoch 1550 -->  Weights: (12.01, 13.01),  Bias: 4.84,  Cost: 0.002416402678649536\n",
      "Epoch 1600 -->  Weights: (12.01, 13.01),  Bias: 4.86,  Cost: 0.001993231716239763\n",
      "Epoch 1650 -->  Weights: (12.01, 13.01),  Bias: 4.87,  Cost: 0.0016441682960082907\n",
      "Epoch 1700 -->  Weights: (12.01, 13.01),  Bias: 4.88,  Cost: 0.0013562343823718744\n",
      "Epoch 1750 -->  Weights: (12.01, 13.01),  Bias: 4.89,  Cost: 0.001118724709869064\n",
      "Epoch 1800 -->  Weights: (12.01, 13.01),  Bias: 4.9,  Cost: 0.0009228087657551058\n",
      "Epoch 1850 -->  Weights: (12.01, 13.01),  Bias: 4.91,  Cost: 0.0007612024751422229\n",
      "Epoch 1900 -->  Weights: (12.01, 13.01),  Bias: 4.92,  Cost: 0.000627897382062832\n",
      "Epoch 1950 -->  Weights: (12.01, 13.01),  Bias: 4.93,  Cost: 0.0005179372575316187\n",
      "Epoch 2000 -->  Weights: (12.01, 13.0),  Bias: 4.93,  Cost: 0.0004272338289706749\n"
     ]
    }
   ],
   "source": [
    "batch_W, batch_b, _ = batch_gradient_descent(X, y, 2000, 0.01)"
   ]
  },
  {
   "cell_type": "code",
   "execution_count": 30,
   "metadata": {},
   "outputs": [
    {
     "name": "stdout",
     "output_type": "stream",
     "text": [
      "Epoch 50 -->  Weights: (12.28, 13.2),  Bias: 2.04,  Cost: 0.8596203823448794\n",
      "Epoch 100 -->  Weights: (12.25, 13.21),  Bias: 2.18,  Cost: 0.7764568930021237\n",
      "Epoch 150 -->  Weights: (12.23, 13.2),  Bias: 2.31,  Cost: 0.7052298135567165\n",
      "Epoch 200 -->  Weights: (12.22, 13.19),  Bias: 2.44,  Cost: 0.6405367725074411\n",
      "Epoch 250 -->  Weights: (12.21, 13.18),  Bias: 2.56,  Cost: 0.5817781704057245\n",
      "Epoch 300 -->  Weights: (12.2, 13.17),  Bias: 2.67,  Cost: 0.5284096916789486\n",
      "Epoch 350 -->  Weights: (12.19, 13.16),  Bias: 2.78,  Cost: 0.4799368839166158\n",
      "Epoch 400 -->  Weights: (12.18, 13.16),  Bias: 2.89,  Cost: 0.43591065071337104\n",
      "Epoch 450 -->  Weights: (12.18, 13.15),  Bias: 2.99,  Cost: 0.39592309275056653\n",
      "Epoch 500 -->  Weights: (12.17, 13.14),  Bias: 3.08,  Cost: 0.3596037286922132\n",
      "Epoch 550 -->  Weights: (12.16, 13.14),  Bias: 3.17,  Cost: 0.3266160627079361\n",
      "Epoch 600 -->  Weights: (12.15, 13.13),  Bias: 3.26,  Cost: 0.29665446686774544\n",
      "Epoch 650 -->  Weights: (12.14, 13.12),  Bias: 3.34,  Cost: 0.2694413495250425\n",
      "Epoch 700 -->  Weights: (12.14, 13.12),  Bias: 3.42,  Cost: 0.2447245834536625\n",
      "Epoch 750 -->  Weights: (12.13, 13.11),  Bias: 3.49,  Cost: 0.22227516991039778\n",
      "Epoch 800 -->  Weights: (12.13, 13.11),  Bias: 3.56,  Cost: 0.20188511698110959\n",
      "Epoch 850 -->  Weights: (12.12, 13.1),  Bias: 3.63,  Cost: 0.1833655125532374\n",
      "Epoch 900 -->  Weights: (12.11, 13.1),  Bias: 3.69,  Cost: 0.16654477406106616\n",
      "Epoch 950 -->  Weights: (12.11, 13.09),  Bias: 3.76,  Cost: 0.15126705878782806\n",
      "Epoch 1000 -->  Weights: (12.1, 13.09),  Bias: 3.81,  Cost: 0.1373908199961259\n",
      "Epoch 1050 -->  Weights: (12.1, 13.08),  Bias: 3.87,  Cost: 0.12478749550942303\n",
      "Epoch 1100 -->  Weights: (12.09, 13.08),  Bias: 3.92,  Cost: 0.11334031659431329\n",
      "Epoch 1150 -->  Weights: (12.09, 13.08),  Bias: 3.97,  Cost: 0.10294322610817738\n",
      "Epoch 1200 -->  Weights: (12.09, 13.07),  Bias: 4.02,  Cost: 0.09349989588869038\n",
      "Epoch 1250 -->  Weights: (12.08, 13.07),  Bias: 4.07,  Cost: 0.08492283428157547\n",
      "Epoch 1300 -->  Weights: (12.08, 13.07),  Bias: 4.11,  Cost: 0.07713257553785528\n",
      "Epoch 1350 -->  Weights: (12.07, 13.06),  Bias: 4.15,  Cost: 0.07005694357041277\n",
      "Epoch 1400 -->  Weights: (12.07, 13.06),  Bias: 4.19,  Cost: 0.06363038324864301\n",
      "Epoch 1450 -->  Weights: (12.07, 13.06),  Bias: 4.23,  Cost: 0.05779335303572415\n",
      "Epoch 1500 -->  Weights: (12.06, 13.05),  Bias: 4.27,  Cost: 0.05249177334134666\n",
      "Epoch 1550 -->  Weights: (12.06, 13.05),  Bias: 4.3,  Cost: 0.04767652547890809\n",
      "Epoch 1600 -->  Weights: (12.06, 13.05),  Bias: 4.33,  Cost: 0.04330299658500789\n",
      "Epoch 1650 -->  Weights: (12.06, 13.05),  Bias: 4.37,  Cost: 0.03933066628504452\n",
      "Epoch 1700 -->  Weights: (12.05, 13.04),  Bias: 4.4,  Cost: 0.03572273127539449\n",
      "Epoch 1750 -->  Weights: (12.05, 13.04),  Bias: 4.42,  Cost: 0.032445764343924086\n",
      "Epoch 1800 -->  Weights: (12.05, 13.04),  Bias: 4.45,  Cost: 0.029469404669701587\n",
      "Epoch 1850 -->  Weights: (12.05, 13.04),  Bias: 4.48,  Cost: 0.02676607653254444\n",
      "Epoch 1900 -->  Weights: (12.04, 13.04),  Bias: 4.5,  Cost: 0.02431073382634798\n",
      "Epoch 1950 -->  Weights: (12.04, 13.04),  Bias: 4.52,  Cost: 0.022080628008999036\n",
      "Epoch 2000 -->  Weights: (12.04, 13.03),  Bias: 4.55,  Cost: 0.020055097339077642\n"
     ]
    }
   ],
   "source": [
    "stochastic_W, stochastic_b, _ = stochastic_gradient_descent(X, y, 2000, 0.01)"
   ]
  },
  {
   "cell_type": "code",
   "execution_count": 31,
   "metadata": {},
   "outputs": [
    {
     "name": "stdout",
     "output_type": "stream",
     "text": [
      "Parameters (Batch Gradient Descent) ==> Weights: (12.01, 13.0), Bias: 4.93\n",
      "Parameters (Stochastic Gradient Descent) ==> Weights: (12.04, 13.03), Bias: 4.55\n"
     ]
    }
   ],
   "source": [
    "print(f\"Parameters (Batch Gradient Descent) ==> Weights: {round(batch_W[0], 2), round(batch_W[1], 2)}, Bias: {round(batch_b, 2)}\")\n",
    "print(f\"Parameters (Stochastic Gradient Descent) ==> Weights: {round(stochastic_W[0], 2), round(stochastic_W[1], 2)}, Bias: {round(stochastic_b, 2)}\")"
   ]
  },
  {
   "cell_type": "markdown",
   "metadata": {},
   "source": [
    "###  No 2 (d) "
   ]
  },
  {
   "cell_type": "code",
   "execution_count": 32,
   "metadata": {},
   "outputs": [
    {
     "name": "stdout",
     "output_type": "stream",
     "text": [
      "B0 = 8, B1 = 15, B2 = 17\n"
     ]
    }
   ],
   "source": [
    "print(\"B0 = 8, B1 = 15, B2 = 17\")"
   ]
  },
  {
   "cell_type": "code",
   "execution_count": 33,
   "metadata": {},
   "outputs": [],
   "source": [
    "X = []\n",
    "y = []\n",
    "B0, B1, B2 = 8, 15, 17\n",
    "\n",
    "for i in range(500):\n",
    "    x = [random.uniform(1, 10), random.uniform(1, 10)]\n",
    "    \n",
    "    y.append(B0 + B1*x[0] + B2*x[1])\n",
    "    X.append(x)\n",
    "    \n",
    "X = np.array(X)\n",
    "y = np.array(y)"
   ]
  },
  {
   "cell_type": "code",
   "execution_count": 34,
   "metadata": {},
   "outputs": [
    {
     "name": "stdout",
     "output_type": "stream",
     "text": [
      "Epoch 50 -->  Weights: (15.43, 17.38),  Bias: 3.1,  Cost: 2.6066606788204627\n",
      "Epoch 100 -->  Weights: (15.39, 17.34),  Bias: 3.6,  Cost: 2.105562485443171\n",
      "Epoch 150 -->  Weights: (15.35, 17.31),  Bias: 4.04,  Cost: 1.7008152083109946\n",
      "Epoch 200 -->  Weights: (15.31, 17.28),  Bias: 4.44,  Cost: 1.373871539264455\n",
      "Epoch 250 -->  Weights: (15.28, 17.25),  Bias: 4.8,  Cost: 1.109775475417638\n",
      "Epoch 300 -->  Weights: (15.25, 17.22),  Bias: 5.13,  Cost: 0.8964459708494982\n",
      "Epoch 350 -->  Weights: (15.23, 17.2),  Bias: 5.42,  Cost: 0.7241242904109971\n",
      "Epoch 400 -->  Weights: (15.2, 17.18),  Bias: 5.68,  Cost: 0.584927597439394\n",
      "Epoch 450 -->  Weights: (15.18, 17.16),  Bias: 5.91,  Cost: 0.4724883542465285\n",
      "Epoch 500 -->  Weights: (15.16, 17.15),  Bias: 6.12,  Cost: 0.38166303979479943\n",
      "Epoch 550 -->  Weights: (15.15, 17.13),  Bias: 6.31,  Cost: 0.30829685988282857\n",
      "Epoch 600 -->  Weights: (15.13, 17.12),  Bias: 6.49,  Cost: 0.24903368653330998\n",
      "Epoch 650 -->  Weights: (15.12, 17.11),  Bias: 6.64,  Cost: 0.20116253228121161\n",
      "Epoch 700 -->  Weights: (15.11, 17.1),  Bias: 6.78,  Cost: 0.16249353634482513\n",
      "Epoch 750 -->  Weights: (15.1, 17.09),  Bias: 6.9,  Cost: 0.13125778968091784\n",
      "Epoch 800 -->  Weights: (15.09, 17.08),  Bias: 7.01,  Cost: 0.10602641643147803\n",
      "Epoch 850 -->  Weights: (15.08, 17.07),  Bias: 7.11,  Cost: 0.08564521015194021\n",
      "Epoch 900 -->  Weights: (15.07, 17.06),  Bias: 7.2,  Cost: 0.06918183476200326\n",
      "Epoch 950 -->  Weights: (15.06, 17.06),  Bias: 7.28,  Cost: 0.0558831749323302\n",
      "Epoch 1000 -->  Weights: (15.06, 17.05),  Bias: 7.36,  Cost: 0.04514088490513344\n",
      "Epoch 1050 -->  Weights: (15.05, 17.05),  Bias: 7.42,  Cost: 0.036463559783168634\n",
      "Epoch 1100 -->  Weights: (15.05, 17.04),  Bias: 7.48,  Cost: 0.02945425626580098\n",
      "Epoch 1150 -->  Weights: (15.04, 17.04),  Bias: 7.53,  Cost: 0.02379233452055634\n",
      "Epoch 1200 -->  Weights: (15.04, 17.03),  Bias: 7.58,  Cost: 0.019218790548631716\n",
      "Epoch 1250 -->  Weights: (15.03, 17.03),  Bias: 7.62,  Cost: 0.015524408074919272\n",
      "Epoch 1300 -->  Weights: (15.03, 17.03),  Bias: 7.66,  Cost: 0.012540187972119357\n",
      "Epoch 1350 -->  Weights: (15.03, 17.02),  Bias: 7.69,  Cost: 0.010129617413892884\n",
      "Epoch 1400 -->  Weights: (15.02, 17.02),  Bias: 7.73,  Cost: 0.008182425110370765\n",
      "Epoch 1450 -->  Weights: (15.02, 17.02),  Bias: 7.75,  Cost: 0.006609536959905722\n",
      "Epoch 1500 -->  Weights: (15.02, 17.02),  Bias: 7.78,  Cost: 0.005339001363909559\n",
      "Epoch 1550 -->  Weights: (15.02, 17.02),  Bias: 7.8,  Cost: 0.00431269780874916\n",
      "Epoch 1600 -->  Weights: (15.02, 17.01),  Bias: 7.82,  Cost: 0.003483678149122808\n",
      "Epoch 1650 -->  Weights: (15.01, 17.01),  Bias: 7.84,  Cost: 0.002814018970226615\n",
      "Epoch 1700 -->  Weights: (15.01, 17.01),  Bias: 7.86,  Cost: 0.0022730867852384486\n",
      "Epoch 1750 -->  Weights: (15.01, 17.01),  Bias: 7.87,  Cost: 0.0018361367097714826\n",
      "Epoch 1800 -->  Weights: (15.01, 17.01),  Bias: 7.88,  Cost: 0.0014831805098092904\n",
      "Epoch 1850 -->  Weights: (15.01, 17.01),  Bias: 7.89,  Cost: 0.0011980722420994571\n",
      "Epoch 1900 -->  Weights: (15.01, 17.01),  Bias: 7.91,  Cost: 0.0009677696597255798\n",
      "Epoch 1950 -->  Weights: (15.01, 17.01),  Bias: 7.92,  Cost: 0.0007817375959271936\n",
      "Epoch 2000 -->  Weights: (15.01, 17.01),  Bias: 7.92,  Cost: 0.0006314660340340626\n"
     ]
    }
   ],
   "source": [
    "batch_W, batch_b, _ = batch_gradient_descent(X, y, 2000, 0.01)"
   ]
  },
  {
   "cell_type": "code",
   "execution_count": 35,
   "metadata": {},
   "outputs": [
    {
     "name": "stdout",
     "output_type": "stream",
     "text": [
      "Epoch 50 -->  Weights: (15.5, 17.35),  Bias: 2.83,  Cost: 2.929923266068707\n",
      "Epoch 100 -->  Weights: (15.43, 17.38),  Bias: 3.1,  Cost: 2.6038319940114163\n",
      "Epoch 150 -->  Weights: (15.41, 17.36),  Bias: 3.35,  Cost: 2.3403087393934965\n",
      "Epoch 200 -->  Weights: (15.39, 17.34),  Bias: 3.59,  Cost: 2.1035132403625108\n",
      "Epoch 250 -->  Weights: (15.37, 17.32),  Bias: 3.82,  Cost: 1.8906773905500573\n",
      "Epoch 300 -->  Weights: (15.35, 17.31),  Bias: 4.04,  Cost: 1.6993765243838355\n",
      "Epoch 350 -->  Weights: (15.33, 17.29),  Bias: 4.24,  Cost: 1.5274316956219596\n",
      "Epoch 400 -->  Weights: (15.31, 17.28),  Bias: 4.44,  Cost: 1.3728844381147915\n",
      "Epoch 450 -->  Weights: (15.3, 17.26),  Bias: 4.62,  Cost: 1.2339744460072215\n",
      "Epoch 500 -->  Weights: (15.28, 17.25),  Bias: 4.8,  Cost: 1.1091195231914939\n",
      "Epoch 550 -->  Weights: (15.27, 17.24),  Bias: 4.97,  Cost: 0.9968975619429504\n",
      "Epoch 600 -->  Weights: (15.25, 17.22),  Bias: 5.12,  Cost: 0.896030344996635\n",
      "Epoch 650 -->  Weights: (15.24, 17.21),  Bias: 5.27,  Cost: 0.805368986548642\n",
      "Epoch 700 -->  Weights: (15.23, 17.2),  Bias: 5.41,  Cost: 0.7238808463532779\n",
      "Epoch 750 -->  Weights: (15.22, 17.19),  Bias: 5.55,  Cost: 0.6506377678667932\n",
      "Epoch 800 -->  Weights: (15.2, 17.18),  Bias: 5.68,  Cost: 0.5848055064687466\n",
      "Epoch 850 -->  Weights: (15.19, 17.17),  Bias: 5.8,  Cost: 0.5256342273481366\n",
      "Epoch 900 -->  Weights: (15.18, 17.16),  Bias: 5.91,  Cost: 0.47244996482376606\n",
      "Epoch 950 -->  Weights: (15.17, 17.15),  Bias: 6.02,  Cost: 0.4246469458201985\n",
      "Epoch 1000 -->  Weights: (15.17, 17.15),  Bias: 6.12,  Cost: 0.3816806900635772\n",
      "Epoch 1050 -->  Weights: (15.16, 17.14),  Bias: 6.22,  Cost: 0.3430618084065716\n",
      "Epoch 1100 -->  Weights: (15.15, 17.13),  Bias: 6.31,  Cost: 0.3083504286464771\n",
      "Epoch 1150 -->  Weights: (15.14, 17.12),  Bias: 6.4,  Cost: 0.27715118534491273\n",
      "Epoch 1200 -->  Weights: (15.13, 17.12),  Bias: 6.48,  Cost: 0.24910871658351152\n",
      "Epoch 1250 -->  Weights: (15.13, 17.11),  Bias: 6.56,  Cost: 0.2239036163625119\n",
      "Epoch 1300 -->  Weights: (15.12, 17.11),  Bias: 6.64,  Cost: 0.20124879654061517\n",
      "Epoch 1350 -->  Weights: (15.11, 17.1),  Bias: 6.71,  Cost: 0.18088621687769119\n",
      "Epoch 1400 -->  Weights: (15.11, 17.1),  Bias: 6.77,  Cost: 0.16258394593539993\n",
      "Epoch 1450 -->  Weights: (15.1, 17.09),  Bias: 6.84,  Cost: 0.1461335193592913\n",
      "Epoch 1500 -->  Weights: (15.1, 17.09),  Bias: 6.9,  Cost: 0.13134756545287327\n",
      "Epoch 1550 -->  Weights: (15.09, 17.08),  Bias: 6.96,  Cost: 0.11805767099864904\n",
      "Epoch 1600 -->  Weights: (15.09, 17.08),  Bias: 7.01,  Cost: 0.10611246301802\n",
      "Epoch 1650 -->  Weights: (15.08, 17.07),  Bias: 7.06,  Cost: 0.09537588462068072\n",
      "Epoch 1700 -->  Weights: (15.08, 17.07),  Bias: 7.11,  Cost: 0.08572564530547842\n",
      "Epoch 1750 -->  Weights: (15.07, 17.07),  Bias: 7.16,  Cost: 0.07705182806186973\n",
      "Epoch 1800 -->  Weights: (15.07, 17.06),  Bias: 7.2,  Cost: 0.06925563740605338\n",
      "Epoch 1850 -->  Weights: (15.07, 17.06),  Bias: 7.24,  Cost: 0.06224827409243185\n",
      "Epoch 1900 -->  Weights: (15.06, 17.06),  Bias: 7.28,  Cost: 0.055949923683007434\n",
      "Epoch 1950 -->  Weights: (15.06, 17.05),  Bias: 7.32,  Cost: 0.05028884745440468\n",
      "Epoch 2000 -->  Weights: (15.06, 17.05),  Bias: 7.35,  Cost: 0.04520056528799813\n"
     ]
    }
   ],
   "source": [
    "stochastic_W, stochastic_b, _ = stochastic_gradient_descent(X, y, 2000, 0.01)"
   ]
  },
  {
   "cell_type": "code",
   "execution_count": 36,
   "metadata": {},
   "outputs": [
    {
     "name": "stdout",
     "output_type": "stream",
     "text": [
      "Parameters (Batch Gradient Descent) ==> Weights: (15.01, 17.01), Bias: 7.92\n",
      "Parameters (Stochastic Gradient Descent) ==> Weights: (15.06, 17.05), Bias: 7.35\n"
     ]
    }
   ],
   "source": [
    "print(f\"Parameters (Batch Gradient Descent) ==> Weights: {round(batch_W[0], 2), round(batch_W[1], 2)}, Bias: {round(batch_b, 2)}\")\n",
    "print(f\"Parameters (Stochastic Gradient Descent) ==> Weights: {round(stochastic_W[0], 2), round(stochastic_W[1], 2)}, Bias: {round(stochastic_b, 2)}\")"
   ]
  },
  {
   "cell_type": "markdown",
   "metadata": {},
   "source": [
    "###  No 2(e) "
   ]
  },
  {
   "cell_type": "code",
   "execution_count": 37,
   "metadata": {},
   "outputs": [
    {
     "name": "stdout",
     "output_type": "stream",
     "text": [
      "B0 = 7, B1 = 24, B2 = 25\n"
     ]
    }
   ],
   "source": [
    "print(\"B0 = 7, B1 = 24, B2 = 25\")"
   ]
  },
  {
   "cell_type": "code",
   "execution_count": 38,
   "metadata": {},
   "outputs": [],
   "source": [
    "X = []\n",
    "y = []\n",
    "B0, B1, B2 = 7, 24, 25\n",
    "\n",
    "for i in range(500):\n",
    "    x = [random.uniform(1, 10), random.uniform(1, 10)]\n",
    "    \n",
    "    y.append(B0 + B1*x[0] + B2*x[1])\n",
    "    X.append(x)\n",
    "    \n",
    "X = np.array(X)\n",
    "y = np.array(y)"
   ]
  },
  {
   "cell_type": "code",
   "execution_count": 39,
   "metadata": {},
   "outputs": [
    {
     "name": "stdout",
     "output_type": "stream",
     "text": [
      "Epoch 50 -->  Weights: (24.24, 25.22),  Bias: 4.12,  Cost: 0.7468468267034182\n",
      "Epoch 100 -->  Weights: (24.22, 25.21),  Bias: 4.37,  Cost: 0.6252085955548768\n",
      "Epoch 150 -->  Weights: (24.2, 25.19),  Bias: 4.59,  Cost: 0.5233817763146306\n",
      "Epoch 200 -->  Weights: (24.19, 25.17),  Bias: 4.8,  Cost: 0.4381393437741255\n",
      "Epoch 250 -->  Weights: (24.17, 25.16),  Bias: 4.98,  Cost: 0.36678022287006995\n",
      "Epoch 300 -->  Weights: (24.16, 25.14),  Bias: 5.16,  Cost: 0.30704325872632593\n",
      "Epoch 350 -->  Weights: (24.14, 25.13),  Bias: 5.31,  Cost: 0.25703556748935885\n",
      "Epoch 400 -->  Weights: (24.13, 25.12),  Bias: 5.46,  Cost: 0.21517255655974207\n",
      "Epoch 450 -->  Weights: (24.12, 25.11),  Bias: 5.59,  Cost: 0.1801277136417017\n",
      "Epoch 500 -->  Weights: (24.11, 25.1),  Bias: 5.71,  Cost: 0.1507905735775288\n",
      "Epoch 550 -->  Weights: (24.1, 25.09),  Bias: 5.82,  Cost: 0.12623153106283\n",
      "Epoch 600 -->  Weights: (24.09, 25.08),  Bias: 5.92,  Cost: 0.10567238426395295\n",
      "Epoch 650 -->  Weights: (24.08, 25.08),  Bias: 6.01,  Cost: 0.08846167595377792\n",
      "Epoch 700 -->  Weights: (24.08, 25.07),  Bias: 6.09,  Cost: 0.07405405080104427\n",
      "Epoch 750 -->  Weights: (24.07, 25.06),  Bias: 6.17,  Cost: 0.06199297470815669\n",
      "Epoch 800 -->  Weights: (24.06, 25.06),  Bias: 6.24,  Cost: 0.05189626862535482\n",
      "Epoch 850 -->  Weights: (24.06, 25.05),  Bias: 6.31,  Cost: 0.04344399845165577\n",
      "Epoch 900 -->  Weights: (24.05, 25.05),  Bias: 6.37,  Cost: 0.0363683372901579\n",
      "Epoch 950 -->  Weights: (24.05, 25.05),  Bias: 6.42,  Cost: 0.030445078823087154\n",
      "Epoch 1000 -->  Weights: (24.04, 25.04),  Bias: 6.47,  Cost: 0.025486532891203666\n",
      "Epoch 1050 -->  Weights: (24.04, 25.04),  Bias: 6.51,  Cost: 0.02133557815990075\n",
      "Epoch 1100 -->  Weights: (24.04, 25.03),  Bias: 6.56,  Cost: 0.01786068341898203\n",
      "Epoch 1150 -->  Weights: (24.03, 25.03),  Bias: 6.59,  Cost: 0.014951739756117959\n",
      "Epoch 1200 -->  Weights: (24.03, 25.03),  Bias: 6.63,  Cost: 0.012516571538187882\n",
      "Epoch 1250 -->  Weights: (24.03, 25.03),  Bias: 6.66,  Cost: 0.010478015644065914\n",
      "Epoch 1300 -->  Weights: (24.03, 25.02),  Bias: 6.69,  Cost: 0.008771476398494758\n",
      "Epoch 1350 -->  Weights: (24.02, 25.02),  Bias: 6.71,  Cost: 0.007342878730374526\n",
      "Epoch 1400 -->  Weights: (24.02, 25.02),  Bias: 6.74,  Cost: 0.006146954697187125\n",
      "Epoch 1450 -->  Weights: (24.02, 25.02),  Bias: 6.76,  Cost: 0.005145809080703949\n",
      "Epoch 1500 -->  Weights: (24.02, 25.02),  Bias: 6.78,  Cost: 0.004307718602053129\n",
      "Epoch 1550 -->  Weights: (24.02, 25.02),  Bias: 6.8,  Cost: 0.0036061267068897055\n",
      "Epoch 1600 -->  Weights: (24.02, 25.01),  Bias: 6.82,  Cost: 0.0030188020684417402\n",
      "Epoch 1650 -->  Weights: (24.01, 25.01),  Bias: 6.83,  Cost: 0.0025271341439594666\n",
      "Epoch 1700 -->  Weights: (24.01, 25.01),  Bias: 6.85,  Cost: 0.0021155434628617868\n",
      "Epoch 1750 -->  Weights: (24.01, 25.01),  Bias: 6.86,  Cost: 0.0017709879603954762\n",
      "Epoch 1800 -->  Weights: (24.01, 25.01),  Bias: 6.87,  Cost: 0.0014825497140231146\n",
      "Epoch 1850 -->  Weights: (24.01, 25.01),  Bias: 6.88,  Cost: 0.0012410889874462287\n",
      "Epoch 1900 -->  Weights: (24.01, 25.01),  Bias: 6.89,  Cost: 0.0010389546199985444\n",
      "Epoch 1950 -->  Weights: (24.01, 25.01),  Bias: 6.9,  Cost: 0.0008697415844750366\n",
      "Epoch 2000 -->  Weights: (24.01, 25.01),  Bias: 6.91,  Cost: 0.0007280880311849132\n"
     ]
    }
   ],
   "source": [
    "batch_W, batch_b, _ = batch_gradient_descent(X, y, 2000, 0.01)"
   ]
  },
  {
   "cell_type": "code",
   "execution_count": 40,
   "metadata": {},
   "outputs": [
    {
     "name": "stdout",
     "output_type": "stream",
     "text": [
      "Epoch 50 -->  Weights: (24.26, 25.23),  Bias: 3.99,  Cost: 0.819221866464358\n",
      "Epoch 100 -->  Weights: (24.24, 25.22),  Bias: 4.12,  Cost: 0.7483433495043985\n",
      "Epoch 150 -->  Weights: (24.23, 25.22),  Bias: 4.24,  Cost: 0.6847151690522227\n",
      "Epoch 200 -->  Weights: (24.22, 25.21),  Bias: 4.36,  Cost: 0.6264983656723666\n",
      "Epoch 250 -->  Weights: (24.21, 25.2),  Bias: 4.48,  Cost: 0.5732313563481973\n",
      "Epoch 300 -->  Weights: (24.2, 25.19),  Bias: 4.59,  Cost: 0.5244932883498328\n",
      "Epoch 350 -->  Weights: (24.2, 25.18),  Bias: 4.69,  Cost: 0.47989909567782263\n",
      "Epoch 400 -->  Weights: (24.19, 25.17),  Bias: 4.79,  Cost: 0.4390964520385476\n",
      "Epoch 450 -->  Weights: (24.18, 25.16),  Bias: 4.89,  Cost: 0.40176298711403063\n",
      "Epoch 500 -->  Weights: (24.17, 25.16),  Bias: 4.98,  Cost: 0.36760373960074594\n",
      "Epoch 550 -->  Weights: (24.16, 25.15),  Bias: 5.07,  Cost: 0.33634882680244893\n",
      "Epoch 600 -->  Weights: (24.16, 25.14),  Bias: 5.15,  Cost: 0.3077513123622026\n",
      "Epoch 650 -->  Weights: (24.15, 25.14),  Bias: 5.23,  Cost: 0.28158525528702727\n",
      "Epoch 700 -->  Weights: (24.14, 25.13),  Bias: 5.31,  Cost: 0.2576439248510515\n",
      "Epoch 750 -->  Weights: (24.14, 25.13),  Bias: 5.38,  Cost: 0.2357381672736809\n",
      "Epoch 800 -->  Weights: (24.13, 25.12),  Bias: 5.45,  Cost: 0.21569491126827042\n",
      "Epoch 850 -->  Weights: (24.13, 25.12),  Bias: 5.52,  Cost: 0.1973558006540889\n",
      "Epoch 900 -->  Weights: (24.12, 25.11),  Bias: 5.58,  Cost: 0.18057594322831613\n",
      "Epoch 950 -->  Weights: (24.11, 25.11),  Bias: 5.65,  Cost: 0.16522276601307243\n",
      "Epoch 1000 -->  Weights: (24.11, 25.1),  Bias: 5.71,  Cost: 0.15117496783333662\n",
      "Epoch 1050 -->  Weights: (24.1, 25.1),  Bias: 5.76,  Cost: 0.13832156095002404\n",
      "Epoch 1100 -->  Weights: (24.1, 25.09),  Bias: 5.82,  Cost: 0.12656099417692654\n",
      "Epoch 1150 -->  Weights: (24.1, 25.09),  Bias: 5.87,  Cost: 0.11580035055300604\n",
      "Epoch 1200 -->  Weights: (24.09, 25.08),  Bias: 5.92,  Cost: 0.10595461323140563\n",
      "Epoch 1250 -->  Weights: (24.09, 25.08),  Bias: 5.96,  Cost: 0.0969459937850316\n",
      "Epoch 1300 -->  Weights: (24.08, 25.08),  Bias: 6.01,  Cost: 0.08870331762186681\n",
      "Epoch 1350 -->  Weights: (24.08, 25.07),  Bias: 6.05,  Cost: 0.08116146165433974\n",
      "Epoch 1400 -->  Weights: (24.08, 25.07),  Bias: 6.09,  Cost: 0.07426083977998073\n",
      "Epoch 1450 -->  Weights: (24.07, 25.07),  Bias: 6.13,  Cost: 0.06794693210814774\n",
      "Epoch 1500 -->  Weights: (24.07, 25.06),  Bias: 6.17,  Cost: 0.06216985421372965\n",
      "Epoch 1550 -->  Weights: (24.07, 25.06),  Bias: 6.21,  Cost: 0.056883963014031286\n",
      "Epoch 1600 -->  Weights: (24.06, 25.06),  Bias: 6.24,  Cost: 0.052047496155580734\n",
      "Epoch 1650 -->  Weights: (24.06, 25.06),  Bias: 6.27,  Cost: 0.047622242061381125\n",
      "Epoch 1700 -->  Weights: (24.06, 25.05),  Bias: 6.3,  Cost: 0.04357323803191547\n",
      "Epoch 1750 -->  Weights: (24.06, 25.05),  Bias: 6.33,  Cost: 0.03986849401459517\n",
      "Epoch 1800 -->  Weights: (24.05, 25.05),  Bias: 6.36,  Cost: 0.03647873985926569\n",
      "Epoch 1850 -->  Weights: (24.05, 25.05),  Bias: 6.39,  Cost: 0.033377194062882094\n",
      "Epoch 1900 -->  Weights: (24.05, 25.05),  Bias: 6.42,  Cost: 0.03053935217634289\n",
      "Epoch 1950 -->  Weights: (24.05, 25.04),  Bias: 6.44,  Cost: 0.02794279320165556\n",
      "Epoch 2000 -->  Weights: (24.05, 25.04),  Bias: 6.47,  Cost: 0.02556700244988829\n"
     ]
    }
   ],
   "source": [
    "stochastic_W, stochastic_b, _ = stochastic_gradient_descent(X, y, 2000, 0.01)"
   ]
  },
  {
   "cell_type": "code",
   "execution_count": 41,
   "metadata": {},
   "outputs": [
    {
     "name": "stdout",
     "output_type": "stream",
     "text": [
      "Parameters (Batch Gradient Descent) ==> Weights: (24.01, 25.01), Bias: 6.91\n",
      "Parameters (Stochastic Gradient Descent) ==> Weights: (24.05, 25.04), Bias: 6.47\n"
     ]
    }
   ],
   "source": [
    "print(f\"Parameters (Batch Gradient Descent) ==> Weights: {round(batch_W[0], 2), round(batch_W[1], 2)}, Bias: {round(batch_b, 2)}\")\n",
    "print(f\"Parameters (Stochastic Gradient Descent) ==> Weights: {round(stochastic_W[0], 2), round(stochastic_W[1], 2)}, Bias: {round(stochastic_b, 2)}\")"
   ]
  },
  {
   "cell_type": "code",
   "execution_count": null,
   "metadata": {},
   "outputs": [],
   "source": []
  }
 ],
 "metadata": {
  "kernelspec": {
   "display_name": "Python 3",
   "language": "python",
   "name": "python3"
  },
  "language_info": {
   "codemirror_mode": {
    "name": "ipython",
    "version": 3
   },
   "file_extension": ".py",
   "mimetype": "text/x-python",
   "name": "python",
   "nbconvert_exporter": "python",
   "pygments_lexer": "ipython3",
   "version": "3.7.6"
  }
 },
 "nbformat": 4,
 "nbformat_minor": 5
}
