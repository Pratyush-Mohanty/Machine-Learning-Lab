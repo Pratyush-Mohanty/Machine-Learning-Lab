{
 "cells": [
  {
   "cell_type": "code",
   "execution_count": 1,
   "metadata": {},
   "outputs": [],
   "source": [
    "import numpy as np\n",
    "import random\n",
    "import math\n",
    "from sklearn.metrics import accuracy_score"
   ]
  },
  {
   "cell_type": "code",
   "execution_count": 2,
   "metadata": {},
   "outputs": [],
   "source": [
    "random.seed(100)"
   ]
  },
  {
   "cell_type": "markdown",
   "metadata": {},
   "source": [
    "# No 1"
   ]
  },
  {
   "cell_type": "code",
   "execution_count": 3,
   "metadata": {},
   "outputs": [],
   "source": [
    "cov_1 = [[0.8, 0.2, 0.1],\n",
    "         [0.2, 0.8, 0.2],\n",
    "         [0.1, 0.2, 0.8]]\n",
    "cov_2 = [[0.6, 0.01, 0.01],\n",
    "         [0.01, 0.8, 0.01],\n",
    "         [0.01, 0.01, 0.6]]\n",
    "cov_3 = [[0.6, 0.1, 0.1],\n",
    "         [0.1, 0.6, 0.1],\n",
    "         [0.1, 0.1, 0.6]]\n",
    "\n",
    "mean_1 = [0, 0, 0]\n",
    "mean_2 = [1, 2, 2]\n",
    "mean_3 = [3, 3, 4]"
   ]
  },
  {
   "cell_type": "code",
   "execution_count": 4,
   "metadata": {},
   "outputs": [],
   "source": [
    "class1_w1, class1_w2, class1_w3 = np.random.multivariate_normal(mean_1, cov_1, 333).T\n",
    "class2_w1, class2_w2, class2_w3 = np.random.multivariate_normal(mean_2, cov_2, 333).T\n",
    "class3_w1, class3_w2, class3_w3 = np.random.multivariate_normal(mean_3, cov_3, 333).T\n",
    "\n",
    "p_class1, p_class2, p_class3 = 1/3, 1/3, 1/3"
   ]
  },
  {
   "cell_type": "code",
   "execution_count": 5,
   "metadata": {},
   "outputs": [],
   "source": [
    "w1 = np.concatenate((class1_w1, class2_w1, class3_w1))\n",
    "w2 = np.concatenate((class1_w2, class2_w2, class3_w2))\n",
    "w3 = np.concatenate((class1_w3, class2_w3, class3_w3))\n",
    "\n",
    "X = np.array([w1, w2, w3]).T\n",
    "Y = [1]*333+[2]*333+[3]*333"
   ]
  },
  {
   "cell_type": "markdown",
   "metadata": {},
   "source": [
    "# Euclidean"
   ]
  },
  {
   "cell_type": "code",
   "execution_count": 6,
   "metadata": {},
   "outputs": [],
   "source": [
    "def euclidean_classifier(X):\n",
    "    y_pred1 = []\n",
    "    for x in X:\n",
    "        euclidean_1 = ((x[0]-mean_1[0])**2 + (x[1]-mean_1[1])**2 + (x[2]-mean_1[2])**2)**0.5\n",
    "        euclidean_2 = ((x[0]-mean_2[0])**2 + (x[1]-mean_2[1])**2 + (x[2]-mean_2[2])**2)**0.5\n",
    "        euclidean_3 = ((x[0]-mean_3[0])**2 + (x[1]-mean_3[1])**2 + (x[2]-mean_3[2])**2)**0.5\n",
    "\n",
    "        if euclidean_1 <= euclidean_2 and euclidean_1 <= euclidean_3:\n",
    "            y_pred1.append(1)\n",
    "        elif euclidean_2 <= euclidean_1 and euclidean_2 <= euclidean_3:\n",
    "            y_pred1.append(2)\n",
    "        elif euclidean_3 <= euclidean_2 and euclidean_3 <= euclidean_1:\n",
    "            y_pred1.append(3)\n",
    "    \n",
    "    return y_pred1"
   ]
  },
  {
   "cell_type": "code",
   "execution_count": 7,
   "metadata": {},
   "outputs": [
    {
     "name": "stdout",
     "output_type": "stream",
     "text": [
      "Accuracy for Euclidean Classifier: 93.79 %\n"
     ]
    }
   ],
   "source": [
    "euclidean_accuracy = round(accuracy_score(euclidean_classifier(X), Y)*100, 2)\n",
    "print(\"Accuracy for Euclidean Classifier:\", euclidean_accuracy, \"%\")"
   ]
  },
  {
   "cell_type": "markdown",
   "metadata": {},
   "source": [
    "# Mahalonobis"
   ]
  },
  {
   "cell_type": "code",
   "execution_count": 8,
   "metadata": {},
   "outputs": [],
   "source": [
    "def mahalanobis_classifier(X):\n",
    "    y_pred2 = []\n",
    "    for x in X:\n",
    "        mahalanobis_1 = ((x-mean_1)@np.linalg.inv(cov_1)@(x-mean_1).T)**0.5\n",
    "        mahalanobis_2 = ((x-mean_2)@np.linalg.inv(cov_2)@(x-mean_2).T)**0.5\n",
    "        mahalanobis_3 = ((x-mean_3)@np.linalg.inv(cov_3)@(x-mean_3).T)**0.5\n",
    "\n",
    "        if mahalanobis_1 <= mahalanobis_2 and mahalanobis_1 <= mahalanobis_3:\n",
    "            y_pred2.append(1)\n",
    "        elif mahalanobis_2 <= mahalanobis_1 and mahalanobis_2 <= mahalanobis_3:\n",
    "            y_pred2.append(2)\n",
    "        elif mahalanobis_3 <= mahalanobis_2 and mahalanobis_3 <= mahalanobis_1:\n",
    "            y_pred2.append(3)\n",
    "    \n",
    "    return y_pred2"
   ]
  },
  {
   "cell_type": "code",
   "execution_count": 9,
   "metadata": {},
   "outputs": [
    {
     "name": "stdout",
     "output_type": "stream",
     "text": [
      "Accuracy for Mahalanobis Classifier: 94.39 %\n"
     ]
    }
   ],
   "source": [
    "mahalanobis_accuracy = round(accuracy_score(mahalanobis_classifier(X), Y)*100, 2)\n",
    "print(\"Accuracy for Mahalanobis Classifier:\", mahalanobis_accuracy, \"%\")"
   ]
  },
  {
   "cell_type": "markdown",
   "metadata": {},
   "source": [
    "# Baysian Classifier"
   ]
  },
  {
   "cell_type": "code",
   "execution_count": 10,
   "metadata": {},
   "outputs": [],
   "source": [
    "def Baysian_Classifier(X):\n",
    "    predictions = []\n",
    "\n",
    "    for x in X:\n",
    "        P_x_class1 = np.exp(-0.5*(((x-np.array([0, 0, 0]))/np.linalg.det(cov_1))**2))/((np.linalg.det(cov_1)**(1/2))*((2*math.pi)**(3/2)))\n",
    "        P_x_class1 = P_x_class1[0]*P_x_class1[1]*P_x_class1[2]\n",
    "\n",
    "        P_x_class2 = np.exp(-0.5*(((x-np.array([1, 2, 2]))/np.linalg.det(cov_2))**2))/((np.linalg.det(cov_2)**(1/2))*((2*math.pi)**(3/2)))\n",
    "        P_x_class2 = P_x_class2[0]*P_x_class2[1]*P_x_class2[2]\n",
    "\n",
    "        P_x_class3 = np.exp(-0.5*(((x-np.array([3, 3, 4]))/np.linalg.det(cov_3))**2))/((np.linalg.det(cov_3)**(1/2))*((2*math.pi)**(3/2)))\n",
    "        P_x_class3 = P_x_class3[0]*P_x_class3[1]*P_x_class3[2]\n",
    "\n",
    "\n",
    "        P_class1_x = P_x_class1*p_class1\n",
    "        P_class2_x = P_x_class2*p_class2\n",
    "        P_class3_x = P_x_class3*p_class3\n",
    "\n",
    "\n",
    "        if P_class1_x >= P_class2_x >= P_class3_x or P_class1_x >= P_class3_x >= P_class2_x:\n",
    "            predictions.append(1)\n",
    "        elif P_class2_x >= P_class1_x >= P_class3_x or P_class2_x >= P_class3_x >= P_class1_x:\n",
    "            predictions.append(2)\n",
    "        else:\n",
    "            predictions.append(3)\n",
    "\n",
    "    \n",
    "    return predictions\n",
    "    \n",
    "\n"
   ]
  },
  {
   "cell_type": "code",
   "execution_count": 11,
   "metadata": {},
   "outputs": [
    {
     "name": "stdout",
     "output_type": "stream",
     "text": [
      "Accuracy for Baysian Classifier: 90.79 %\n"
     ]
    }
   ],
   "source": [
    "Baysian_accuracy = round(accuracy_score(Baysian_Classifier(X), Y)*100, 2)\n",
    "print(\"Accuracy for Baysian Classifier:\", Baysian_accuracy, \"%\")"
   ]
  },
  {
   "cell_type": "markdown",
   "metadata": {},
   "source": [
    "# Accuracy"
   ]
  },
  {
   "cell_type": "code",
   "execution_count": 12,
   "metadata": {},
   "outputs": [
    {
     "name": "stdout",
     "output_type": "stream",
     "text": [
      "93.79\n",
      "mahalanobis_accuracy\n",
      "94.39\n",
      "Baysian Accuracy\n",
      "90.79\n"
     ]
    }
   ],
   "source": [
    "# print(\"euclidean accuracy\")\n",
    "print(euclidean_accuracy)\n",
    "print(\"mahalanobis_accuracy\")\n",
    "print(mahalanobis_accuracy)\n",
    "print(\"Baysian Accuracy\")\n",
    "print(Baysian_accuracy)"
   ]
  },
  {
   "cell_type": "markdown",
   "metadata": {},
   "source": [
    "# NO 2 "
   ]
  },
  {
   "cell_type": "code",
   "execution_count": 13,
   "metadata": {},
   "outputs": [],
   "source": [
    "cov_1=cov_2=cov_3=[[0.8, 0.2, 0.1],\n",
    "         [0.2, 0.8, 0.2],\n",
    "         [0.1, 0.2, 0.8]]\n",
    "\n",
    "mean_1 = [0, 0, 0]\n",
    "mean_2 = [1, 2, 2]\n",
    "mean_3 = [3, 3, 4]"
   ]
  },
  {
   "cell_type": "code",
   "execution_count": 14,
   "metadata": {},
   "outputs": [],
   "source": [
    "class1_w1, class1_w2, class1_w3 = np.random.multivariate_normal(mean_1, cov_1, 333).T\n",
    "class2_w1, class2_w2, class2_w3 = np.random.multivariate_normal(mean_2, cov_2, 333).T\n",
    "class3_w1, class3_w2, class3_w3 = np.random.multivariate_normal(mean_3, cov_3, 333).T\n",
    "\n",
    "p_class1, p_class2, p_class3 = 1/3, 1/3, 1/3\n",
    "w1 = np.concatenate((class1_w1, class2_w1, class3_w1))\n",
    "w2 = np.concatenate((class1_w2, class2_w2, class3_w2))\n",
    "w3 = np.concatenate((class1_w3, class2_w3, class3_w3))\n",
    "\n",
    "X = np.array([w1, w2, w3]).T\n",
    "Y = [1]*333+[2]*333+[3]*333"
   ]
  },
  {
   "cell_type": "code",
   "execution_count": 15,
   "metadata": {},
   "outputs": [
    {
     "name": "stdout",
     "output_type": "stream",
     "text": [
      "Euclidean\n",
      "Accuracy for Euclidean Classifier: 91.79 %\n",
      "Mahalonobis\n",
      "Accuracy for Mahalanobis Classifier: 91.79 %\n",
      "Baysian_Classifier\n",
      "Accuracy for Baysian Classifier: 91.79 %\n"
     ]
    }
   ],
   "source": [
    "print(\"Euclidean\")\n",
    "euclidean_accuracy = round(accuracy_score(euclidean_classifier(X), Y)*100, 2)\n",
    "print(\"Accuracy for Euclidean Classifier:\", euclidean_accuracy, \"%\")\n",
    "print(\"Mahalonobis\")\n",
    "mahalanobis_accuracy = round(accuracy_score(mahalanobis_classifier(X), Y)*100, 2)\n",
    "print(\"Accuracy for Mahalanobis Classifier:\", mahalanobis_accuracy, \"%\")\n",
    "print(\"Baysian_Classifier\")\n",
    "Baysian_accuracy = round(accuracy_score(Baysian_Classifier(X), Y)*100, 2)\n",
    "print(\"Accuracy for Baysian Classifier:\", Baysian_accuracy, \"%\")"
   ]
  },
  {
   "cell_type": "markdown",
   "metadata": {},
   "source": [
    "# NO 3"
   ]
  },
  {
   "cell_type": "code",
   "execution_count": 16,
   "metadata": {},
   "outputs": [],
   "source": [
    "cov_1 = [[0.8, 0.2, 0.1],\n",
    "         [0.2, 0.8, 0.2],\n",
    "         [0.1, 0.2, 0.8]]\n",
    "cov_2 = [[0.6, 0.01, 0.01],\n",
    "         [0.01, 0.8, 0.01],\n",
    "         [0.01, 0.01, 0.6]]\n",
    "cov_3 = [[0.6, 0.1, 0.1],\n",
    "         [0.1, 0.6, 0.1],\n",
    "         [0.1, 0.1, 0.6]]\n",
    "\n",
    "mean_1 = [0, 0, 0]\n",
    "mean_2 = [1, 2, 2]\n",
    "mean_3 = [3, 3, 4]\n",
    "class1_w1, class1_w2, class1_w3 = np.random.multivariate_normal(mean_1, cov_1, 333).T\n",
    "class2_w1, class2_w2, class2_w3 = np.random.multivariate_normal(mean_2, cov_2, 333).T\n",
    "class3_w1, class3_w2, class3_w3 = np.random.multivariate_normal(mean_3, cov_3, 333).T\n",
    "\n",
    "p_class1, p_class2, p_class3 = 1/2, 1/4, 1/4\n",
    "w1 = np.concatenate((class1_w1, class2_w1, class3_w1))\n",
    "w2 = np.concatenate((class1_w2, class2_w2, class3_w2))\n",
    "w3 = np.concatenate((class1_w3, class2_w3, class3_w3))\n",
    "\n",
    "X = np.array([w1, w2, w3]).T\n",
    "Y = [1]*333+[2]*333+[3]*333"
   ]
  },
  {
   "cell_type": "code",
   "execution_count": 17,
   "metadata": {},
   "outputs": [
    {
     "name": "stdout",
     "output_type": "stream",
     "text": [
      "Euclidean\n",
      "Accuracy for Euclidean Classifier: 94.29 %\n",
      "Mahalonobis\n",
      "Accuracy for Mahalanobis Classifier: 94.59 %\n",
      "Baysian_Classifier\n",
      "Accuracy for Baysian Classifier: 90.39 %\n"
     ]
    }
   ],
   "source": [
    "print(\"Euclidean\")\n",
    "euclidean_accuracy = round(accuracy_score(euclidean_classifier(X), Y)*100, 2)\n",
    "print(\"Accuracy for Euclidean Classifier:\", euclidean_accuracy, \"%\")\n",
    "print(\"Mahalonobis\")\n",
    "mahalanobis_accuracy = round(accuracy_score(mahalanobis_classifier(X), Y)*100, 2)\n",
    "print(\"Accuracy for Mahalanobis Classifier:\", mahalanobis_accuracy, \"%\")\n",
    "print(\"Baysian_Classifier\")\n",
    "Baysian_accuracy = round(accuracy_score(Baysian_Classifier(X), Y)*100, 2)\n",
    "print(\"Accuracy for Baysian Classifier:\", Baysian_accuracy, \"%\")"
   ]
  },
  {
   "cell_type": "code",
   "execution_count": 25,
   "metadata": {},
   "outputs": [
    {
     "name": "stdout",
     "output_type": "stream",
     "text": [
      "Mahalonobis performs the best\n"
     ]
    }
   ],
   "source": [
    "print(\"Mahalonobis performs the best\")"
   ]
  },
  {
   "cell_type": "markdown",
   "metadata": {},
   "source": [
    "# No 4"
   ]
  },
  {
   "cell_type": "code",
   "execution_count": 19,
   "metadata": {},
   "outputs": [],
   "source": [
    "loss_func=[[100,20,10],[0,50,50]]\n"
   ]
  },
  {
   "cell_type": "code",
   "execution_count": 20,
   "metadata": {},
   "outputs": [],
   "source": [
    "def pick_best(loss_func,prior_prob):\n",
    "    lam_a1_w1,lam_a1_w2,lam_a1_w3=loss_func[0]\n",
    "    lam_a2_w1,lam_a2_w2,lam_a2_w3=loss_func[1]\n",
    "    p_w1,p_w2,p_w3=prior_prob\n",
    "    risk_a1=lam_a1_w1*p_w1 +lam_a1_w2*p_w2+lam_a1_w3*p_w3 \n",
    "    risk_a2=lam_a2_w1*p_w1 +lam_a2_w2*p_w2+lam_a2_w3*p_w3\n",
    "    \n",
    "    if risk_a1<risk_a2:\n",
    "        print(\"Surgery\")\n",
    "    else:\n",
    "        print(\"No Surgery\")"
   ]
  },
  {
   "cell_type": "code",
   "execution_count": 21,
   "metadata": {},
   "outputs": [
    {
     "name": "stdout",
     "output_type": "stream",
     "text": [
      "Option a\n",
      "\n",
      "No Surgery\n"
     ]
    }
   ],
   "source": [
    "print(\"Option a\\n\")\n",
    "pri_prob1=[1/3,1/3,1/3]\n",
    "act1=pick_best(loss_func,pri_prob1)\n"
   ]
  },
  {
   "cell_type": "code",
   "execution_count": 22,
   "metadata": {},
   "outputs": [
    {
     "name": "stdout",
     "output_type": "stream",
     "text": [
      "Option b\n",
      "\n",
      "No Surgery\n"
     ]
    }
   ],
   "source": [
    "print(\"Option b\\n\")\n",
    "pri_prob1=[1/2,1/4,1/4]\n",
    "act1=pick_best(loss_func,pri_prob1)\n"
   ]
  },
  {
   "cell_type": "code",
   "execution_count": 23,
   "metadata": {},
   "outputs": [
    {
     "name": "stdout",
     "output_type": "stream",
     "text": [
      "Option c\n",
      "\n",
      "Surgery\n"
     ]
    }
   ],
   "source": [
    "print(\"Option c\\n\")\n",
    "pri_prob1=[1/4,1/4,1/2]\n",
    "act1=pick_best(loss_func,pri_prob1)\n"
   ]
  },
  {
   "cell_type": "code",
   "execution_count": 24,
   "metadata": {},
   "outputs": [
    {
     "name": "stdout",
     "output_type": "stream",
     "text": [
      "Option d\n",
      "\n",
      "No Surgery\n"
     ]
    }
   ],
   "source": [
    "print(\"Option d\\n\")\n",
    "pri_prob1=[1/4,1/2,1/4]\n",
    "act1=pick_best(loss_func,pri_prob1)\n"
   ]
  }
 ],
 "metadata": {
  "kernelspec": {
   "display_name": "Python 3",
   "language": "python",
   "name": "python3"
  },
  "language_info": {
   "codemirror_mode": {
    "name": "ipython",
    "version": 3
   },
   "file_extension": ".py",
   "mimetype": "text/x-python",
   "name": "python",
   "nbconvert_exporter": "python",
   "pygments_lexer": "ipython3",
   "version": "3.7.6"
  }
 },
 "nbformat": 4,
 "nbformat_minor": 5
}
